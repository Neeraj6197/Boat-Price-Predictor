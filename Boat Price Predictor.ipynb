{
  "nbformat": 4,
  "nbformat_minor": 0,
  "metadata": {
    "colab": {
      "provenance": []
    },
    "kernelspec": {
      "name": "python3",
      "display_name": "Python 3"
    },
    "language_info": {
      "name": "python"
    }
  },
  "cells": [
    {
      "cell_type": "markdown",
      "source": [
        "# Problem Statement: \n",
        "- Predict price of the boat depending on the following factors:\n",
        "\n",
        "Boat Type,\tManufacturer,\tType,\tYear Built,\tLength,\tWidth,\tMaterial,\tLocation,\tNumber of views last 7 days."
      ],
      "metadata": {
        "id": "IN62JLjsIlci"
      }
    },
    {
      "cell_type": "code",
      "execution_count": 412,
      "metadata": {
        "id": "cpWZMHVxJ5g5"
      },
      "outputs": [],
      "source": [
        "#importing the required libraries\n",
        "import numpy as np\n",
        "import pandas as pd\n",
        "import matplotlib.pyplot as plt\n",
        "import seaborn as sns\n",
        "import warnings\n",
        "warnings.filterwarnings('ignore')"
      ]
    },
    {
      "cell_type": "code",
      "source": [
        "# reading the dataset\n",
        "df = pd.read_csv('boat_data.csv')\n",
        "df.head()"
      ],
      "metadata": {
        "colab": {
          "base_uri": "https://localhost:8080/",
          "height": 354
        },
        "id": "3krWIZJvFQkg",
        "outputId": "04ad04c3-f224-49de-d554-c91550049d10"
      },
      "execution_count": 413,
      "outputs": [
        {
          "output_type": "execute_result",
          "data": {
            "text/plain": [
              "       Price            Boat Type          Manufacturer                 Type  \\\n",
              "0   CHF 3337          Motor Yacht  Rigiflex power boats  new boat from stock   \n",
              "1   EUR 3490  Center console boat     Terhi power boats  new boat from stock   \n",
              "2   CHF 3770           Sport Boat    Marine power boats  new boat from stock   \n",
              "3  DKK 25900           Sport Boat    Pioner power boats  new boat from stock   \n",
              "4   EUR 3399         Fishing Boat    Linder power boats  new boat from stock   \n",
              "\n",
              "   Year Built  Length  Width       Material  \\\n",
              "0        2017    4.00   1.90            NaN   \n",
              "1        2020    4.00   1.50  Thermoplastic   \n",
              "2           0    3.69   1.42      Aluminium   \n",
              "3        2020    3.00   1.00            NaN   \n",
              "4        2019    3.55   1.46      Aluminium   \n",
              "\n",
              "                                     Location  Number of views last 7 days  \n",
              "0      Switzerland Â» Lake Geneva Â» VÃ©senaz                          226  \n",
              "1                    Germany Â» BÃ¶nningstedt                           75  \n",
              "2  Switzerland Â» Lake of Zurich Â» StÃ¤fa ZH                          124  \n",
              "3                        Denmark Â» Svendborg                           64  \n",
              "4               Germany Â» Bayern Â» MÃ¼nchen                           58  "
            ],
            "text/html": [
              "\n",
              "  <div id=\"df-fca634f2-565f-4d90-8175-992c77f96cf3\">\n",
              "    <div class=\"colab-df-container\">\n",
              "      <div>\n",
              "<style scoped>\n",
              "    .dataframe tbody tr th:only-of-type {\n",
              "        vertical-align: middle;\n",
              "    }\n",
              "\n",
              "    .dataframe tbody tr th {\n",
              "        vertical-align: top;\n",
              "    }\n",
              "\n",
              "    .dataframe thead th {\n",
              "        text-align: right;\n",
              "    }\n",
              "</style>\n",
              "<table border=\"1\" class=\"dataframe\">\n",
              "  <thead>\n",
              "    <tr style=\"text-align: right;\">\n",
              "      <th></th>\n",
              "      <th>Price</th>\n",
              "      <th>Boat Type</th>\n",
              "      <th>Manufacturer</th>\n",
              "      <th>Type</th>\n",
              "      <th>Year Built</th>\n",
              "      <th>Length</th>\n",
              "      <th>Width</th>\n",
              "      <th>Material</th>\n",
              "      <th>Location</th>\n",
              "      <th>Number of views last 7 days</th>\n",
              "    </tr>\n",
              "  </thead>\n",
              "  <tbody>\n",
              "    <tr>\n",
              "      <th>0</th>\n",
              "      <td>CHF 3337</td>\n",
              "      <td>Motor Yacht</td>\n",
              "      <td>Rigiflex power boats</td>\n",
              "      <td>new boat from stock</td>\n",
              "      <td>2017</td>\n",
              "      <td>4.00</td>\n",
              "      <td>1.90</td>\n",
              "      <td>NaN</td>\n",
              "      <td>Switzerland Â» Lake Geneva Â» VÃ©senaz</td>\n",
              "      <td>226</td>\n",
              "    </tr>\n",
              "    <tr>\n",
              "      <th>1</th>\n",
              "      <td>EUR 3490</td>\n",
              "      <td>Center console boat</td>\n",
              "      <td>Terhi power boats</td>\n",
              "      <td>new boat from stock</td>\n",
              "      <td>2020</td>\n",
              "      <td>4.00</td>\n",
              "      <td>1.50</td>\n",
              "      <td>Thermoplastic</td>\n",
              "      <td>Germany Â» BÃ¶nningstedt</td>\n",
              "      <td>75</td>\n",
              "    </tr>\n",
              "    <tr>\n",
              "      <th>2</th>\n",
              "      <td>CHF 3770</td>\n",
              "      <td>Sport Boat</td>\n",
              "      <td>Marine power boats</td>\n",
              "      <td>new boat from stock</td>\n",
              "      <td>0</td>\n",
              "      <td>3.69</td>\n",
              "      <td>1.42</td>\n",
              "      <td>Aluminium</td>\n",
              "      <td>Switzerland Â» Lake of Zurich Â» StÃ¤fa ZH</td>\n",
              "      <td>124</td>\n",
              "    </tr>\n",
              "    <tr>\n",
              "      <th>3</th>\n",
              "      <td>DKK 25900</td>\n",
              "      <td>Sport Boat</td>\n",
              "      <td>Pioner power boats</td>\n",
              "      <td>new boat from stock</td>\n",
              "      <td>2020</td>\n",
              "      <td>3.00</td>\n",
              "      <td>1.00</td>\n",
              "      <td>NaN</td>\n",
              "      <td>Denmark Â» Svendborg</td>\n",
              "      <td>64</td>\n",
              "    </tr>\n",
              "    <tr>\n",
              "      <th>4</th>\n",
              "      <td>EUR 3399</td>\n",
              "      <td>Fishing Boat</td>\n",
              "      <td>Linder power boats</td>\n",
              "      <td>new boat from stock</td>\n",
              "      <td>2019</td>\n",
              "      <td>3.55</td>\n",
              "      <td>1.46</td>\n",
              "      <td>Aluminium</td>\n",
              "      <td>Germany Â» Bayern Â» MÃ¼nchen</td>\n",
              "      <td>58</td>\n",
              "    </tr>\n",
              "  </tbody>\n",
              "</table>\n",
              "</div>\n",
              "      <button class=\"colab-df-convert\" onclick=\"convertToInteractive('df-fca634f2-565f-4d90-8175-992c77f96cf3')\"\n",
              "              title=\"Convert this dataframe to an interactive table.\"\n",
              "              style=\"display:none;\">\n",
              "        \n",
              "  <svg xmlns=\"http://www.w3.org/2000/svg\" height=\"24px\"viewBox=\"0 0 24 24\"\n",
              "       width=\"24px\">\n",
              "    <path d=\"M0 0h24v24H0V0z\" fill=\"none\"/>\n",
              "    <path d=\"M18.56 5.44l.94 2.06.94-2.06 2.06-.94-2.06-.94-.94-2.06-.94 2.06-2.06.94zm-11 1L8.5 8.5l.94-2.06 2.06-.94-2.06-.94L8.5 2.5l-.94 2.06-2.06.94zm10 10l.94 2.06.94-2.06 2.06-.94-2.06-.94-.94-2.06-.94 2.06-2.06.94z\"/><path d=\"M17.41 7.96l-1.37-1.37c-.4-.4-.92-.59-1.43-.59-.52 0-1.04.2-1.43.59L10.3 9.45l-7.72 7.72c-.78.78-.78 2.05 0 2.83L4 21.41c.39.39.9.59 1.41.59.51 0 1.02-.2 1.41-.59l7.78-7.78 2.81-2.81c.8-.78.8-2.07 0-2.86zM5.41 20L4 18.59l7.72-7.72 1.47 1.35L5.41 20z\"/>\n",
              "  </svg>\n",
              "      </button>\n",
              "      \n",
              "  <style>\n",
              "    .colab-df-container {\n",
              "      display:flex;\n",
              "      flex-wrap:wrap;\n",
              "      gap: 12px;\n",
              "    }\n",
              "\n",
              "    .colab-df-convert {\n",
              "      background-color: #E8F0FE;\n",
              "      border: none;\n",
              "      border-radius: 50%;\n",
              "      cursor: pointer;\n",
              "      display: none;\n",
              "      fill: #1967D2;\n",
              "      height: 32px;\n",
              "      padding: 0 0 0 0;\n",
              "      width: 32px;\n",
              "    }\n",
              "\n",
              "    .colab-df-convert:hover {\n",
              "      background-color: #E2EBFA;\n",
              "      box-shadow: 0px 1px 2px rgba(60, 64, 67, 0.3), 0px 1px 3px 1px rgba(60, 64, 67, 0.15);\n",
              "      fill: #174EA6;\n",
              "    }\n",
              "\n",
              "    [theme=dark] .colab-df-convert {\n",
              "      background-color: #3B4455;\n",
              "      fill: #D2E3FC;\n",
              "    }\n",
              "\n",
              "    [theme=dark] .colab-df-convert:hover {\n",
              "      background-color: #434B5C;\n",
              "      box-shadow: 0px 1px 3px 1px rgba(0, 0, 0, 0.15);\n",
              "      filter: drop-shadow(0px 1px 2px rgba(0, 0, 0, 0.3));\n",
              "      fill: #FFFFFF;\n",
              "    }\n",
              "  </style>\n",
              "\n",
              "      <script>\n",
              "        const buttonEl =\n",
              "          document.querySelector('#df-fca634f2-565f-4d90-8175-992c77f96cf3 button.colab-df-convert');\n",
              "        buttonEl.style.display =\n",
              "          google.colab.kernel.accessAllowed ? 'block' : 'none';\n",
              "\n",
              "        async function convertToInteractive(key) {\n",
              "          const element = document.querySelector('#df-fca634f2-565f-4d90-8175-992c77f96cf3');\n",
              "          const dataTable =\n",
              "            await google.colab.kernel.invokeFunction('convertToInteractive',\n",
              "                                                     [key], {});\n",
              "          if (!dataTable) return;\n",
              "\n",
              "          const docLinkHtml = 'Like what you see? Visit the ' +\n",
              "            '<a target=\"_blank\" href=https://colab.research.google.com/notebooks/data_table.ipynb>data table notebook</a>'\n",
              "            + ' to learn more about interactive tables.';\n",
              "          element.innerHTML = '';\n",
              "          dataTable['output_type'] = 'display_data';\n",
              "          await google.colab.output.renderOutput(dataTable, element);\n",
              "          const docLink = document.createElement('div');\n",
              "          docLink.innerHTML = docLinkHtml;\n",
              "          element.appendChild(docLink);\n",
              "        }\n",
              "      </script>\n",
              "    </div>\n",
              "  </div>\n",
              "  "
            ]
          },
          "metadata": {},
          "execution_count": 413
        }
      ]
    },
    {
      "cell_type": "code",
      "source": [
        "# checking the shape:\n",
        "df.shape"
      ],
      "metadata": {
        "colab": {
          "base_uri": "https://localhost:8080/"
        },
        "id": "2N7kBKeiGFIM",
        "outputId": "db8e4a2f-f514-47ba-e861-8de657a096f8"
      },
      "execution_count": 414,
      "outputs": [
        {
          "output_type": "execute_result",
          "data": {
            "text/plain": [
              "(9888, 10)"
            ]
          },
          "metadata": {},
          "execution_count": 414
        }
      ]
    },
    {
      "cell_type": "code",
      "source": [
        "#checking the dtypes and columns:\n",
        "df.info() "
      ],
      "metadata": {
        "colab": {
          "base_uri": "https://localhost:8080/"
        },
        "id": "aVXHW1fYGHoJ",
        "outputId": "66ec1231-a012-428f-b785-042684516c10"
      },
      "execution_count": 415,
      "outputs": [
        {
          "output_type": "stream",
          "name": "stdout",
          "text": [
            "<class 'pandas.core.frame.DataFrame'>\n",
            "RangeIndex: 9888 entries, 0 to 9887\n",
            "Data columns (total 10 columns):\n",
            " #   Column                       Non-Null Count  Dtype  \n",
            "---  ------                       --------------  -----  \n",
            " 0   Price                        9888 non-null   object \n",
            " 1   Boat Type                    9888 non-null   object \n",
            " 2   Manufacturer                 8550 non-null   object \n",
            " 3   Type                         9882 non-null   object \n",
            " 4   Year Built                   9888 non-null   int64  \n",
            " 5   Length                       9879 non-null   float64\n",
            " 6   Width                        9832 non-null   float64\n",
            " 7   Material                     8139 non-null   object \n",
            " 8   Location                     9852 non-null   object \n",
            " 9   Number of views last 7 days  9888 non-null   int64  \n",
            "dtypes: float64(2), int64(2), object(6)\n",
            "memory usage: 772.6+ KB\n"
          ]
        }
      ]
    },
    {
      "cell_type": "code",
      "source": [
        "#checking for duplicates:\n",
        "df.duplicated().sum()"
      ],
      "metadata": {
        "colab": {
          "base_uri": "https://localhost:8080/"
        },
        "id": "9Pd-8KsqGNka",
        "outputId": "33aa05e3-0b4f-4769-c863-42dad04ffdb9"
      },
      "execution_count": 416,
      "outputs": [
        {
          "output_type": "execute_result",
          "data": {
            "text/plain": [
              "0"
            ]
          },
          "metadata": {},
          "execution_count": 416
        }
      ]
    },
    {
      "cell_type": "code",
      "source": [
        "#checking for null values:\n",
        "df.isnull().sum()"
      ],
      "metadata": {
        "colab": {
          "base_uri": "https://localhost:8080/"
        },
        "id": "R2TBvsTZGSt2",
        "outputId": "bc0c6fa5-cee4-4951-8f06-de29520af756"
      },
      "execution_count": 417,
      "outputs": [
        {
          "output_type": "execute_result",
          "data": {
            "text/plain": [
              "Price                             0\n",
              "Boat Type                         0\n",
              "Manufacturer                   1338\n",
              "Type                              6\n",
              "Year Built                        0\n",
              "Length                            9\n",
              "Width                            56\n",
              "Material                       1749\n",
              "Location                         36\n",
              "Number of views last 7 days       0\n",
              "dtype: int64"
            ]
          },
          "metadata": {},
          "execution_count": 417
        }
      ]
    },
    {
      "cell_type": "markdown",
      "source": [
        "## Analysing each column:"
      ],
      "metadata": {
        "id": "8lWkzX6ZHzHt"
      }
    },
    {
      "cell_type": "code",
      "source": [
        "# Price                             \n",
        "df['Price'].unique()"
      ],
      "metadata": {
        "colab": {
          "base_uri": "https://localhost:8080/"
        },
        "id": "N2aAWBWiGnqD",
        "outputId": "9763d398-c162-4563-d582-8cb409d981aa"
      },
      "execution_count": 418,
      "outputs": [
        {
          "output_type": "execute_result",
          "data": {
            "text/plain": [
              "array(['CHF 3337', 'EUR 3490', 'CHF 3770', ..., 'EUR 4499', 'EUR 4300',\n",
              "       'CHF 3780'], dtype=object)"
            ]
          },
          "metadata": {},
          "execution_count": 418
        }
      ]
    },
    {
      "cell_type": "code",
      "source": [
        "#checking the value counts:\n",
        "df['Price'].value_counts()"
      ],
      "metadata": {
        "colab": {
          "base_uri": "https://localhost:8080/"
        },
        "id": "qrSSsZ88H7VW",
        "outputId": "3c743c7d-1d2d-451f-aef7-5a1423cf9e74"
      },
      "execution_count": 419,
      "outputs": [
        {
          "output_type": "execute_result",
          "data": {
            "text/plain": [
              "EUR 65000      77\n",
              "EUR 45000      67\n",
              "EUR 75000      64\n",
              "EUR 89000      64\n",
              "EUR 55000      61\n",
              "               ..\n",
              "EUR 1199000     1\n",
              "EUR 1197600     1\n",
              "EUR 1184590     1\n",
              "EUR 1163760     1\n",
              "CHF 3780        1\n",
              "Name: Price, Length: 3182, dtype: int64"
            ]
          },
          "metadata": {},
          "execution_count": 419
        }
      ]
    },
    {
      "cell_type": "code",
      "source": [
        "#creating a new column 'currency' by splitting the price column:\n",
        "df['Currency'] = df['Price'].str.split(\" \",expand=True)[0]\n",
        "df['Price'] = df['Price'].str.split(\" \",expand=True)[1].astype(int)"
      ],
      "metadata": {
        "id": "C4ulzGzBIDzM"
      },
      "execution_count": 420,
      "outputs": []
    },
    {
      "cell_type": "code",
      "source": [
        "#recehcking the dataset:\n",
        "df.head()"
      ],
      "metadata": {
        "colab": {
          "base_uri": "https://localhost:8080/",
          "height": 354
        },
        "id": "YSKQiHoAJk7E",
        "outputId": "19fbb7d3-7365-4777-8f51-15fa811e80cf"
      },
      "execution_count": 421,
      "outputs": [
        {
          "output_type": "execute_result",
          "data": {
            "text/plain": [
              "   Price            Boat Type          Manufacturer                 Type  \\\n",
              "0   3337          Motor Yacht  Rigiflex power boats  new boat from stock   \n",
              "1   3490  Center console boat     Terhi power boats  new boat from stock   \n",
              "2   3770           Sport Boat    Marine power boats  new boat from stock   \n",
              "3  25900           Sport Boat    Pioner power boats  new boat from stock   \n",
              "4   3399         Fishing Boat    Linder power boats  new boat from stock   \n",
              "\n",
              "   Year Built  Length  Width       Material  \\\n",
              "0        2017    4.00   1.90            NaN   \n",
              "1        2020    4.00   1.50  Thermoplastic   \n",
              "2           0    3.69   1.42      Aluminium   \n",
              "3        2020    3.00   1.00            NaN   \n",
              "4        2019    3.55   1.46      Aluminium   \n",
              "\n",
              "                                     Location  Number of views last 7 days  \\\n",
              "0      Switzerland Â» Lake Geneva Â» VÃ©senaz                          226   \n",
              "1                    Germany Â» BÃ¶nningstedt                           75   \n",
              "2  Switzerland Â» Lake of Zurich Â» StÃ¤fa ZH                          124   \n",
              "3                        Denmark Â» Svendborg                           64   \n",
              "4               Germany Â» Bayern Â» MÃ¼nchen                           58   \n",
              "\n",
              "  Currency  \n",
              "0      CHF  \n",
              "1      EUR  \n",
              "2      CHF  \n",
              "3      DKK  \n",
              "4      EUR  "
            ],
            "text/html": [
              "\n",
              "  <div id=\"df-6c830529-49ea-47bf-88e0-79d327249d8e\">\n",
              "    <div class=\"colab-df-container\">\n",
              "      <div>\n",
              "<style scoped>\n",
              "    .dataframe tbody tr th:only-of-type {\n",
              "        vertical-align: middle;\n",
              "    }\n",
              "\n",
              "    .dataframe tbody tr th {\n",
              "        vertical-align: top;\n",
              "    }\n",
              "\n",
              "    .dataframe thead th {\n",
              "        text-align: right;\n",
              "    }\n",
              "</style>\n",
              "<table border=\"1\" class=\"dataframe\">\n",
              "  <thead>\n",
              "    <tr style=\"text-align: right;\">\n",
              "      <th></th>\n",
              "      <th>Price</th>\n",
              "      <th>Boat Type</th>\n",
              "      <th>Manufacturer</th>\n",
              "      <th>Type</th>\n",
              "      <th>Year Built</th>\n",
              "      <th>Length</th>\n",
              "      <th>Width</th>\n",
              "      <th>Material</th>\n",
              "      <th>Location</th>\n",
              "      <th>Number of views last 7 days</th>\n",
              "      <th>Currency</th>\n",
              "    </tr>\n",
              "  </thead>\n",
              "  <tbody>\n",
              "    <tr>\n",
              "      <th>0</th>\n",
              "      <td>3337</td>\n",
              "      <td>Motor Yacht</td>\n",
              "      <td>Rigiflex power boats</td>\n",
              "      <td>new boat from stock</td>\n",
              "      <td>2017</td>\n",
              "      <td>4.00</td>\n",
              "      <td>1.90</td>\n",
              "      <td>NaN</td>\n",
              "      <td>Switzerland Â» Lake Geneva Â» VÃ©senaz</td>\n",
              "      <td>226</td>\n",
              "      <td>CHF</td>\n",
              "    </tr>\n",
              "    <tr>\n",
              "      <th>1</th>\n",
              "      <td>3490</td>\n",
              "      <td>Center console boat</td>\n",
              "      <td>Terhi power boats</td>\n",
              "      <td>new boat from stock</td>\n",
              "      <td>2020</td>\n",
              "      <td>4.00</td>\n",
              "      <td>1.50</td>\n",
              "      <td>Thermoplastic</td>\n",
              "      <td>Germany Â» BÃ¶nningstedt</td>\n",
              "      <td>75</td>\n",
              "      <td>EUR</td>\n",
              "    </tr>\n",
              "    <tr>\n",
              "      <th>2</th>\n",
              "      <td>3770</td>\n",
              "      <td>Sport Boat</td>\n",
              "      <td>Marine power boats</td>\n",
              "      <td>new boat from stock</td>\n",
              "      <td>0</td>\n",
              "      <td>3.69</td>\n",
              "      <td>1.42</td>\n",
              "      <td>Aluminium</td>\n",
              "      <td>Switzerland Â» Lake of Zurich Â» StÃ¤fa ZH</td>\n",
              "      <td>124</td>\n",
              "      <td>CHF</td>\n",
              "    </tr>\n",
              "    <tr>\n",
              "      <th>3</th>\n",
              "      <td>25900</td>\n",
              "      <td>Sport Boat</td>\n",
              "      <td>Pioner power boats</td>\n",
              "      <td>new boat from stock</td>\n",
              "      <td>2020</td>\n",
              "      <td>3.00</td>\n",
              "      <td>1.00</td>\n",
              "      <td>NaN</td>\n",
              "      <td>Denmark Â» Svendborg</td>\n",
              "      <td>64</td>\n",
              "      <td>DKK</td>\n",
              "    </tr>\n",
              "    <tr>\n",
              "      <th>4</th>\n",
              "      <td>3399</td>\n",
              "      <td>Fishing Boat</td>\n",
              "      <td>Linder power boats</td>\n",
              "      <td>new boat from stock</td>\n",
              "      <td>2019</td>\n",
              "      <td>3.55</td>\n",
              "      <td>1.46</td>\n",
              "      <td>Aluminium</td>\n",
              "      <td>Germany Â» Bayern Â» MÃ¼nchen</td>\n",
              "      <td>58</td>\n",
              "      <td>EUR</td>\n",
              "    </tr>\n",
              "  </tbody>\n",
              "</table>\n",
              "</div>\n",
              "      <button class=\"colab-df-convert\" onclick=\"convertToInteractive('df-6c830529-49ea-47bf-88e0-79d327249d8e')\"\n",
              "              title=\"Convert this dataframe to an interactive table.\"\n",
              "              style=\"display:none;\">\n",
              "        \n",
              "  <svg xmlns=\"http://www.w3.org/2000/svg\" height=\"24px\"viewBox=\"0 0 24 24\"\n",
              "       width=\"24px\">\n",
              "    <path d=\"M0 0h24v24H0V0z\" fill=\"none\"/>\n",
              "    <path d=\"M18.56 5.44l.94 2.06.94-2.06 2.06-.94-2.06-.94-.94-2.06-.94 2.06-2.06.94zm-11 1L8.5 8.5l.94-2.06 2.06-.94-2.06-.94L8.5 2.5l-.94 2.06-2.06.94zm10 10l.94 2.06.94-2.06 2.06-.94-2.06-.94-.94-2.06-.94 2.06-2.06.94z\"/><path d=\"M17.41 7.96l-1.37-1.37c-.4-.4-.92-.59-1.43-.59-.52 0-1.04.2-1.43.59L10.3 9.45l-7.72 7.72c-.78.78-.78 2.05 0 2.83L4 21.41c.39.39.9.59 1.41.59.51 0 1.02-.2 1.41-.59l7.78-7.78 2.81-2.81c.8-.78.8-2.07 0-2.86zM5.41 20L4 18.59l7.72-7.72 1.47 1.35L5.41 20z\"/>\n",
              "  </svg>\n",
              "      </button>\n",
              "      \n",
              "  <style>\n",
              "    .colab-df-container {\n",
              "      display:flex;\n",
              "      flex-wrap:wrap;\n",
              "      gap: 12px;\n",
              "    }\n",
              "\n",
              "    .colab-df-convert {\n",
              "      background-color: #E8F0FE;\n",
              "      border: none;\n",
              "      border-radius: 50%;\n",
              "      cursor: pointer;\n",
              "      display: none;\n",
              "      fill: #1967D2;\n",
              "      height: 32px;\n",
              "      padding: 0 0 0 0;\n",
              "      width: 32px;\n",
              "    }\n",
              "\n",
              "    .colab-df-convert:hover {\n",
              "      background-color: #E2EBFA;\n",
              "      box-shadow: 0px 1px 2px rgba(60, 64, 67, 0.3), 0px 1px 3px 1px rgba(60, 64, 67, 0.15);\n",
              "      fill: #174EA6;\n",
              "    }\n",
              "\n",
              "    [theme=dark] .colab-df-convert {\n",
              "      background-color: #3B4455;\n",
              "      fill: #D2E3FC;\n",
              "    }\n",
              "\n",
              "    [theme=dark] .colab-df-convert:hover {\n",
              "      background-color: #434B5C;\n",
              "      box-shadow: 0px 1px 3px 1px rgba(0, 0, 0, 0.15);\n",
              "      filter: drop-shadow(0px 1px 2px rgba(0, 0, 0, 0.3));\n",
              "      fill: #FFFFFF;\n",
              "    }\n",
              "  </style>\n",
              "\n",
              "      <script>\n",
              "        const buttonEl =\n",
              "          document.querySelector('#df-6c830529-49ea-47bf-88e0-79d327249d8e button.colab-df-convert');\n",
              "        buttonEl.style.display =\n",
              "          google.colab.kernel.accessAllowed ? 'block' : 'none';\n",
              "\n",
              "        async function convertToInteractive(key) {\n",
              "          const element = document.querySelector('#df-6c830529-49ea-47bf-88e0-79d327249d8e');\n",
              "          const dataTable =\n",
              "            await google.colab.kernel.invokeFunction('convertToInteractive',\n",
              "                                                     [key], {});\n",
              "          if (!dataTable) return;\n",
              "\n",
              "          const docLinkHtml = 'Like what you see? Visit the ' +\n",
              "            '<a target=\"_blank\" href=https://colab.research.google.com/notebooks/data_table.ipynb>data table notebook</a>'\n",
              "            + ' to learn more about interactive tables.';\n",
              "          element.innerHTML = '';\n",
              "          dataTable['output_type'] = 'display_data';\n",
              "          await google.colab.output.renderOutput(dataTable, element);\n",
              "          const docLink = document.createElement('div');\n",
              "          docLink.innerHTML = docLinkHtml;\n",
              "          element.appendChild(docLink);\n",
              "        }\n",
              "      </script>\n",
              "    </div>\n",
              "  </div>\n",
              "  "
            ]
          },
          "metadata": {},
          "execution_count": 421
        }
      ]
    },
    {
      "cell_type": "code",
      "source": [
        "df['Currency'].value_counts()"
      ],
      "metadata": {
        "colab": {
          "base_uri": "https://localhost:8080/"
        },
        "id": "ErrIQWXksBQJ",
        "outputId": "7a802c19-414b-43bb-cc10-d197ab6d2def"
      },
      "execution_count": 422,
      "outputs": [
        {
          "output_type": "execute_result",
          "data": {
            "text/plain": [
              "EUR    8430\n",
              "CHF     980\n",
              "Â£      298\n",
              "DKK     180\n",
              "Name: Currency, dtype: int64"
            ]
          },
          "metadata": {},
          "execution_count": 422
        }
      ]
    },
    {
      "cell_type": "code",
      "source": [
        "#defining a func to change the price to EUR according to currency:\n",
        "def convert_price_to_usd(df):\n",
        "  for i in range(len(df)):\n",
        "    if df['Currency'][i] == 'CHF':\n",
        "      df['Price'][i] = df['Price'][i]\n",
        "    elif df['Currency'][i] == 'Â£':\n",
        "      df['Price'][i] = df['Price'][i] * 1.13\n",
        "    elif df['Currency'][i] == 'DKK':\n",
        "      df['Price'][i] = df['Price'][i] * 0.13\n",
        "    else:\n",
        "      continue\n",
        "  return df"
      ],
      "metadata": {
        "id": "9GIr_ijzrO4N"
      },
      "execution_count": 423,
      "outputs": []
    },
    {
      "cell_type": "code",
      "source": [
        "new_df = df.copy()\n",
        "new_df.head()"
      ],
      "metadata": {
        "colab": {
          "base_uri": "https://localhost:8080/",
          "height": 354
        },
        "id": "HDxZXZ_Nt52A",
        "outputId": "288455e7-06f3-430f-df09-e425b51a69ee"
      },
      "execution_count": 424,
      "outputs": [
        {
          "output_type": "execute_result",
          "data": {
            "text/plain": [
              "   Price            Boat Type          Manufacturer                 Type  \\\n",
              "0   3337          Motor Yacht  Rigiflex power boats  new boat from stock   \n",
              "1   3490  Center console boat     Terhi power boats  new boat from stock   \n",
              "2   3770           Sport Boat    Marine power boats  new boat from stock   \n",
              "3  25900           Sport Boat    Pioner power boats  new boat from stock   \n",
              "4   3399         Fishing Boat    Linder power boats  new boat from stock   \n",
              "\n",
              "   Year Built  Length  Width       Material  \\\n",
              "0        2017    4.00   1.90            NaN   \n",
              "1        2020    4.00   1.50  Thermoplastic   \n",
              "2           0    3.69   1.42      Aluminium   \n",
              "3        2020    3.00   1.00            NaN   \n",
              "4        2019    3.55   1.46      Aluminium   \n",
              "\n",
              "                                     Location  Number of views last 7 days  \\\n",
              "0      Switzerland Â» Lake Geneva Â» VÃ©senaz                          226   \n",
              "1                    Germany Â» BÃ¶nningstedt                           75   \n",
              "2  Switzerland Â» Lake of Zurich Â» StÃ¤fa ZH                          124   \n",
              "3                        Denmark Â» Svendborg                           64   \n",
              "4               Germany Â» Bayern Â» MÃ¼nchen                           58   \n",
              "\n",
              "  Currency  \n",
              "0      CHF  \n",
              "1      EUR  \n",
              "2      CHF  \n",
              "3      DKK  \n",
              "4      EUR  "
            ],
            "text/html": [
              "\n",
              "  <div id=\"df-ff23911f-3b8d-4f57-b1dd-752e4be3ca3a\">\n",
              "    <div class=\"colab-df-container\">\n",
              "      <div>\n",
              "<style scoped>\n",
              "    .dataframe tbody tr th:only-of-type {\n",
              "        vertical-align: middle;\n",
              "    }\n",
              "\n",
              "    .dataframe tbody tr th {\n",
              "        vertical-align: top;\n",
              "    }\n",
              "\n",
              "    .dataframe thead th {\n",
              "        text-align: right;\n",
              "    }\n",
              "</style>\n",
              "<table border=\"1\" class=\"dataframe\">\n",
              "  <thead>\n",
              "    <tr style=\"text-align: right;\">\n",
              "      <th></th>\n",
              "      <th>Price</th>\n",
              "      <th>Boat Type</th>\n",
              "      <th>Manufacturer</th>\n",
              "      <th>Type</th>\n",
              "      <th>Year Built</th>\n",
              "      <th>Length</th>\n",
              "      <th>Width</th>\n",
              "      <th>Material</th>\n",
              "      <th>Location</th>\n",
              "      <th>Number of views last 7 days</th>\n",
              "      <th>Currency</th>\n",
              "    </tr>\n",
              "  </thead>\n",
              "  <tbody>\n",
              "    <tr>\n",
              "      <th>0</th>\n",
              "      <td>3337</td>\n",
              "      <td>Motor Yacht</td>\n",
              "      <td>Rigiflex power boats</td>\n",
              "      <td>new boat from stock</td>\n",
              "      <td>2017</td>\n",
              "      <td>4.00</td>\n",
              "      <td>1.90</td>\n",
              "      <td>NaN</td>\n",
              "      <td>Switzerland Â» Lake Geneva Â» VÃ©senaz</td>\n",
              "      <td>226</td>\n",
              "      <td>CHF</td>\n",
              "    </tr>\n",
              "    <tr>\n",
              "      <th>1</th>\n",
              "      <td>3490</td>\n",
              "      <td>Center console boat</td>\n",
              "      <td>Terhi power boats</td>\n",
              "      <td>new boat from stock</td>\n",
              "      <td>2020</td>\n",
              "      <td>4.00</td>\n",
              "      <td>1.50</td>\n",
              "      <td>Thermoplastic</td>\n",
              "      <td>Germany Â» BÃ¶nningstedt</td>\n",
              "      <td>75</td>\n",
              "      <td>EUR</td>\n",
              "    </tr>\n",
              "    <tr>\n",
              "      <th>2</th>\n",
              "      <td>3770</td>\n",
              "      <td>Sport Boat</td>\n",
              "      <td>Marine power boats</td>\n",
              "      <td>new boat from stock</td>\n",
              "      <td>0</td>\n",
              "      <td>3.69</td>\n",
              "      <td>1.42</td>\n",
              "      <td>Aluminium</td>\n",
              "      <td>Switzerland Â» Lake of Zurich Â» StÃ¤fa ZH</td>\n",
              "      <td>124</td>\n",
              "      <td>CHF</td>\n",
              "    </tr>\n",
              "    <tr>\n",
              "      <th>3</th>\n",
              "      <td>25900</td>\n",
              "      <td>Sport Boat</td>\n",
              "      <td>Pioner power boats</td>\n",
              "      <td>new boat from stock</td>\n",
              "      <td>2020</td>\n",
              "      <td>3.00</td>\n",
              "      <td>1.00</td>\n",
              "      <td>NaN</td>\n",
              "      <td>Denmark Â» Svendborg</td>\n",
              "      <td>64</td>\n",
              "      <td>DKK</td>\n",
              "    </tr>\n",
              "    <tr>\n",
              "      <th>4</th>\n",
              "      <td>3399</td>\n",
              "      <td>Fishing Boat</td>\n",
              "      <td>Linder power boats</td>\n",
              "      <td>new boat from stock</td>\n",
              "      <td>2019</td>\n",
              "      <td>3.55</td>\n",
              "      <td>1.46</td>\n",
              "      <td>Aluminium</td>\n",
              "      <td>Germany Â» Bayern Â» MÃ¼nchen</td>\n",
              "      <td>58</td>\n",
              "      <td>EUR</td>\n",
              "    </tr>\n",
              "  </tbody>\n",
              "</table>\n",
              "</div>\n",
              "      <button class=\"colab-df-convert\" onclick=\"convertToInteractive('df-ff23911f-3b8d-4f57-b1dd-752e4be3ca3a')\"\n",
              "              title=\"Convert this dataframe to an interactive table.\"\n",
              "              style=\"display:none;\">\n",
              "        \n",
              "  <svg xmlns=\"http://www.w3.org/2000/svg\" height=\"24px\"viewBox=\"0 0 24 24\"\n",
              "       width=\"24px\">\n",
              "    <path d=\"M0 0h24v24H0V0z\" fill=\"none\"/>\n",
              "    <path d=\"M18.56 5.44l.94 2.06.94-2.06 2.06-.94-2.06-.94-.94-2.06-.94 2.06-2.06.94zm-11 1L8.5 8.5l.94-2.06 2.06-.94-2.06-.94L8.5 2.5l-.94 2.06-2.06.94zm10 10l.94 2.06.94-2.06 2.06-.94-2.06-.94-.94-2.06-.94 2.06-2.06.94z\"/><path d=\"M17.41 7.96l-1.37-1.37c-.4-.4-.92-.59-1.43-.59-.52 0-1.04.2-1.43.59L10.3 9.45l-7.72 7.72c-.78.78-.78 2.05 0 2.83L4 21.41c.39.39.9.59 1.41.59.51 0 1.02-.2 1.41-.59l7.78-7.78 2.81-2.81c.8-.78.8-2.07 0-2.86zM5.41 20L4 18.59l7.72-7.72 1.47 1.35L5.41 20z\"/>\n",
              "  </svg>\n",
              "      </button>\n",
              "      \n",
              "  <style>\n",
              "    .colab-df-container {\n",
              "      display:flex;\n",
              "      flex-wrap:wrap;\n",
              "      gap: 12px;\n",
              "    }\n",
              "\n",
              "    .colab-df-convert {\n",
              "      background-color: #E8F0FE;\n",
              "      border: none;\n",
              "      border-radius: 50%;\n",
              "      cursor: pointer;\n",
              "      display: none;\n",
              "      fill: #1967D2;\n",
              "      height: 32px;\n",
              "      padding: 0 0 0 0;\n",
              "      width: 32px;\n",
              "    }\n",
              "\n",
              "    .colab-df-convert:hover {\n",
              "      background-color: #E2EBFA;\n",
              "      box-shadow: 0px 1px 2px rgba(60, 64, 67, 0.3), 0px 1px 3px 1px rgba(60, 64, 67, 0.15);\n",
              "      fill: #174EA6;\n",
              "    }\n",
              "\n",
              "    [theme=dark] .colab-df-convert {\n",
              "      background-color: #3B4455;\n",
              "      fill: #D2E3FC;\n",
              "    }\n",
              "\n",
              "    [theme=dark] .colab-df-convert:hover {\n",
              "      background-color: #434B5C;\n",
              "      box-shadow: 0px 1px 3px 1px rgba(0, 0, 0, 0.15);\n",
              "      filter: drop-shadow(0px 1px 2px rgba(0, 0, 0, 0.3));\n",
              "      fill: #FFFFFF;\n",
              "    }\n",
              "  </style>\n",
              "\n",
              "      <script>\n",
              "        const buttonEl =\n",
              "          document.querySelector('#df-ff23911f-3b8d-4f57-b1dd-752e4be3ca3a button.colab-df-convert');\n",
              "        buttonEl.style.display =\n",
              "          google.colab.kernel.accessAllowed ? 'block' : 'none';\n",
              "\n",
              "        async function convertToInteractive(key) {\n",
              "          const element = document.querySelector('#df-ff23911f-3b8d-4f57-b1dd-752e4be3ca3a');\n",
              "          const dataTable =\n",
              "            await google.colab.kernel.invokeFunction('convertToInteractive',\n",
              "                                                     [key], {});\n",
              "          if (!dataTable) return;\n",
              "\n",
              "          const docLinkHtml = 'Like what you see? Visit the ' +\n",
              "            '<a target=\"_blank\" href=https://colab.research.google.com/notebooks/data_table.ipynb>data table notebook</a>'\n",
              "            + ' to learn more about interactive tables.';\n",
              "          element.innerHTML = '';\n",
              "          dataTable['output_type'] = 'display_data';\n",
              "          await google.colab.output.renderOutput(dataTable, element);\n",
              "          const docLink = document.createElement('div');\n",
              "          docLink.innerHTML = docLinkHtml;\n",
              "          element.appendChild(docLink);\n",
              "        }\n",
              "      </script>\n",
              "    </div>\n",
              "  </div>\n",
              "  "
            ]
          },
          "metadata": {},
          "execution_count": 424
        }
      ]
    },
    {
      "cell_type": "code",
      "source": [
        "convert_price_to_usd(new_df)"
      ],
      "metadata": {
        "colab": {
          "base_uri": "https://localhost:8080/",
          "height": 641
        },
        "id": "rZNJWx2ctkzF",
        "outputId": "74896388-139b-4d13-c023-66ca46a277a8"
      },
      "execution_count": 425,
      "outputs": [
        {
          "output_type": "execute_result",
          "data": {
            "text/plain": [
              "       Price            Boat Type           Manufacturer  \\\n",
              "0     3337.0          Motor Yacht   Rigiflex power boats   \n",
              "1     3490.0  Center console boat      Terhi power boats   \n",
              "2     3770.0           Sport Boat     Marine power boats   \n",
              "3     3367.0           Sport Boat     Pioner power boats   \n",
              "4     3399.0         Fishing Boat     Linder power boats   \n",
              "...      ...                  ...                    ...   \n",
              "9883  4900.0           Sport Boat    Sea Ray power boats   \n",
              "9884  4516.0           Sport Boat                    NaN   \n",
              "9885  4499.0           Sport Boat  BlueCraft power boats   \n",
              "9886  4300.0         Pontoon Boat      Whaly power boats   \n",
              "9887  3780.0         Fishing Boat    DarekCo power boats   \n",
              "\n",
              "                              Type  Year Built  Length  Width       Material  \\\n",
              "0              new boat from stock        2017    4.00   1.90            NaN   \n",
              "1              new boat from stock        2020    4.00   1.50  Thermoplastic   \n",
              "2              new boat from stock           0    3.69   1.42      Aluminium   \n",
              "3              new boat from stock        2020    3.00   1.00            NaN   \n",
              "4              new boat from stock        2019    3.55   1.46      Aluminium   \n",
              "...                            ...         ...     ...    ...            ...   \n",
              "9883            Used boat,Unleaded        1987    6.30   2.44            NaN   \n",
              "9884           new boat from stock           0    4.17   1.68            GRP   \n",
              "9885  new boat from stock,Unleaded        2020    4.40   1.80            GRP   \n",
              "9886           new boat from stock        2018    4.37   1.89            NaN   \n",
              "9887           new boat from stock        2019    3.60   1.60            GRP   \n",
              "\n",
              "                                        Location  Number of views last 7 days  \\\n",
              "0         Switzerland Â» Lake Geneva Â» VÃ©senaz                          226   \n",
              "1                       Germany Â» BÃ¶nningstedt                           75   \n",
              "2     Switzerland Â» Lake of Zurich Â» StÃ¤fa ZH                          124   \n",
              "3                           Denmark Â» Svendborg                           64   \n",
              "4                  Germany Â» Bayern Â» MÃ¼nchen                           58   \n",
              "...                                          ...                          ...   \n",
              "9883    Switzerland Â» Lago Maggiore Â» Riazzino                         1116   \n",
              "9884               Germany Â» Hamburg Â» HAMBURG                           94   \n",
              "9885     Germany Â» Nordrhein-Westfalen Â» Wesel                          354   \n",
              "9886                       Italy Â» Dormelletto                           266   \n",
              "9887        Switzerland Â» Brienzersee Â» Brienz                          194   \n",
              "\n",
              "     Currency  \n",
              "0         CHF  \n",
              "1         EUR  \n",
              "2         CHF  \n",
              "3         DKK  \n",
              "4         EUR  \n",
              "...       ...  \n",
              "9883      CHF  \n",
              "9884      EUR  \n",
              "9885      EUR  \n",
              "9886      EUR  \n",
              "9887      CHF  \n",
              "\n",
              "[9888 rows x 11 columns]"
            ],
            "text/html": [
              "\n",
              "  <div id=\"df-3921532b-8dd8-402a-8613-f26db5860f4e\">\n",
              "    <div class=\"colab-df-container\">\n",
              "      <div>\n",
              "<style scoped>\n",
              "    .dataframe tbody tr th:only-of-type {\n",
              "        vertical-align: middle;\n",
              "    }\n",
              "\n",
              "    .dataframe tbody tr th {\n",
              "        vertical-align: top;\n",
              "    }\n",
              "\n",
              "    .dataframe thead th {\n",
              "        text-align: right;\n",
              "    }\n",
              "</style>\n",
              "<table border=\"1\" class=\"dataframe\">\n",
              "  <thead>\n",
              "    <tr style=\"text-align: right;\">\n",
              "      <th></th>\n",
              "      <th>Price</th>\n",
              "      <th>Boat Type</th>\n",
              "      <th>Manufacturer</th>\n",
              "      <th>Type</th>\n",
              "      <th>Year Built</th>\n",
              "      <th>Length</th>\n",
              "      <th>Width</th>\n",
              "      <th>Material</th>\n",
              "      <th>Location</th>\n",
              "      <th>Number of views last 7 days</th>\n",
              "      <th>Currency</th>\n",
              "    </tr>\n",
              "  </thead>\n",
              "  <tbody>\n",
              "    <tr>\n",
              "      <th>0</th>\n",
              "      <td>3337.0</td>\n",
              "      <td>Motor Yacht</td>\n",
              "      <td>Rigiflex power boats</td>\n",
              "      <td>new boat from stock</td>\n",
              "      <td>2017</td>\n",
              "      <td>4.00</td>\n",
              "      <td>1.90</td>\n",
              "      <td>NaN</td>\n",
              "      <td>Switzerland Â» Lake Geneva Â» VÃ©senaz</td>\n",
              "      <td>226</td>\n",
              "      <td>CHF</td>\n",
              "    </tr>\n",
              "    <tr>\n",
              "      <th>1</th>\n",
              "      <td>3490.0</td>\n",
              "      <td>Center console boat</td>\n",
              "      <td>Terhi power boats</td>\n",
              "      <td>new boat from stock</td>\n",
              "      <td>2020</td>\n",
              "      <td>4.00</td>\n",
              "      <td>1.50</td>\n",
              "      <td>Thermoplastic</td>\n",
              "      <td>Germany Â» BÃ¶nningstedt</td>\n",
              "      <td>75</td>\n",
              "      <td>EUR</td>\n",
              "    </tr>\n",
              "    <tr>\n",
              "      <th>2</th>\n",
              "      <td>3770.0</td>\n",
              "      <td>Sport Boat</td>\n",
              "      <td>Marine power boats</td>\n",
              "      <td>new boat from stock</td>\n",
              "      <td>0</td>\n",
              "      <td>3.69</td>\n",
              "      <td>1.42</td>\n",
              "      <td>Aluminium</td>\n",
              "      <td>Switzerland Â» Lake of Zurich Â» StÃ¤fa ZH</td>\n",
              "      <td>124</td>\n",
              "      <td>CHF</td>\n",
              "    </tr>\n",
              "    <tr>\n",
              "      <th>3</th>\n",
              "      <td>3367.0</td>\n",
              "      <td>Sport Boat</td>\n",
              "      <td>Pioner power boats</td>\n",
              "      <td>new boat from stock</td>\n",
              "      <td>2020</td>\n",
              "      <td>3.00</td>\n",
              "      <td>1.00</td>\n",
              "      <td>NaN</td>\n",
              "      <td>Denmark Â» Svendborg</td>\n",
              "      <td>64</td>\n",
              "      <td>DKK</td>\n",
              "    </tr>\n",
              "    <tr>\n",
              "      <th>4</th>\n",
              "      <td>3399.0</td>\n",
              "      <td>Fishing Boat</td>\n",
              "      <td>Linder power boats</td>\n",
              "      <td>new boat from stock</td>\n",
              "      <td>2019</td>\n",
              "      <td>3.55</td>\n",
              "      <td>1.46</td>\n",
              "      <td>Aluminium</td>\n",
              "      <td>Germany Â» Bayern Â» MÃ¼nchen</td>\n",
              "      <td>58</td>\n",
              "      <td>EUR</td>\n",
              "    </tr>\n",
              "    <tr>\n",
              "      <th>...</th>\n",
              "      <td>...</td>\n",
              "      <td>...</td>\n",
              "      <td>...</td>\n",
              "      <td>...</td>\n",
              "      <td>...</td>\n",
              "      <td>...</td>\n",
              "      <td>...</td>\n",
              "      <td>...</td>\n",
              "      <td>...</td>\n",
              "      <td>...</td>\n",
              "      <td>...</td>\n",
              "    </tr>\n",
              "    <tr>\n",
              "      <th>9883</th>\n",
              "      <td>4900.0</td>\n",
              "      <td>Sport Boat</td>\n",
              "      <td>Sea Ray power boats</td>\n",
              "      <td>Used boat,Unleaded</td>\n",
              "      <td>1987</td>\n",
              "      <td>6.30</td>\n",
              "      <td>2.44</td>\n",
              "      <td>NaN</td>\n",
              "      <td>Switzerland Â» Lago Maggiore Â» Riazzino</td>\n",
              "      <td>1116</td>\n",
              "      <td>CHF</td>\n",
              "    </tr>\n",
              "    <tr>\n",
              "      <th>9884</th>\n",
              "      <td>4516.0</td>\n",
              "      <td>Sport Boat</td>\n",
              "      <td>NaN</td>\n",
              "      <td>new boat from stock</td>\n",
              "      <td>0</td>\n",
              "      <td>4.17</td>\n",
              "      <td>1.68</td>\n",
              "      <td>GRP</td>\n",
              "      <td>Germany Â» Hamburg Â» HAMBURG</td>\n",
              "      <td>94</td>\n",
              "      <td>EUR</td>\n",
              "    </tr>\n",
              "    <tr>\n",
              "      <th>9885</th>\n",
              "      <td>4499.0</td>\n",
              "      <td>Sport Boat</td>\n",
              "      <td>BlueCraft power boats</td>\n",
              "      <td>new boat from stock,Unleaded</td>\n",
              "      <td>2020</td>\n",
              "      <td>4.40</td>\n",
              "      <td>1.80</td>\n",
              "      <td>GRP</td>\n",
              "      <td>Germany Â» Nordrhein-Westfalen Â» Wesel</td>\n",
              "      <td>354</td>\n",
              "      <td>EUR</td>\n",
              "    </tr>\n",
              "    <tr>\n",
              "      <th>9886</th>\n",
              "      <td>4300.0</td>\n",
              "      <td>Pontoon Boat</td>\n",
              "      <td>Whaly power boats</td>\n",
              "      <td>new boat from stock</td>\n",
              "      <td>2018</td>\n",
              "      <td>4.37</td>\n",
              "      <td>1.89</td>\n",
              "      <td>NaN</td>\n",
              "      <td>Italy Â» Dormelletto</td>\n",
              "      <td>266</td>\n",
              "      <td>EUR</td>\n",
              "    </tr>\n",
              "    <tr>\n",
              "      <th>9887</th>\n",
              "      <td>3780.0</td>\n",
              "      <td>Fishing Boat</td>\n",
              "      <td>DarekCo power boats</td>\n",
              "      <td>new boat from stock</td>\n",
              "      <td>2019</td>\n",
              "      <td>3.60</td>\n",
              "      <td>1.60</td>\n",
              "      <td>GRP</td>\n",
              "      <td>Switzerland Â» Brienzersee Â» Brienz</td>\n",
              "      <td>194</td>\n",
              "      <td>CHF</td>\n",
              "    </tr>\n",
              "  </tbody>\n",
              "</table>\n",
              "<p>9888 rows × 11 columns</p>\n",
              "</div>\n",
              "      <button class=\"colab-df-convert\" onclick=\"convertToInteractive('df-3921532b-8dd8-402a-8613-f26db5860f4e')\"\n",
              "              title=\"Convert this dataframe to an interactive table.\"\n",
              "              style=\"display:none;\">\n",
              "        \n",
              "  <svg xmlns=\"http://www.w3.org/2000/svg\" height=\"24px\"viewBox=\"0 0 24 24\"\n",
              "       width=\"24px\">\n",
              "    <path d=\"M0 0h24v24H0V0z\" fill=\"none\"/>\n",
              "    <path d=\"M18.56 5.44l.94 2.06.94-2.06 2.06-.94-2.06-.94-.94-2.06-.94 2.06-2.06.94zm-11 1L8.5 8.5l.94-2.06 2.06-.94-2.06-.94L8.5 2.5l-.94 2.06-2.06.94zm10 10l.94 2.06.94-2.06 2.06-.94-2.06-.94-.94-2.06-.94 2.06-2.06.94z\"/><path d=\"M17.41 7.96l-1.37-1.37c-.4-.4-.92-.59-1.43-.59-.52 0-1.04.2-1.43.59L10.3 9.45l-7.72 7.72c-.78.78-.78 2.05 0 2.83L4 21.41c.39.39.9.59 1.41.59.51 0 1.02-.2 1.41-.59l7.78-7.78 2.81-2.81c.8-.78.8-2.07 0-2.86zM5.41 20L4 18.59l7.72-7.72 1.47 1.35L5.41 20z\"/>\n",
              "  </svg>\n",
              "      </button>\n",
              "      \n",
              "  <style>\n",
              "    .colab-df-container {\n",
              "      display:flex;\n",
              "      flex-wrap:wrap;\n",
              "      gap: 12px;\n",
              "    }\n",
              "\n",
              "    .colab-df-convert {\n",
              "      background-color: #E8F0FE;\n",
              "      border: none;\n",
              "      border-radius: 50%;\n",
              "      cursor: pointer;\n",
              "      display: none;\n",
              "      fill: #1967D2;\n",
              "      height: 32px;\n",
              "      padding: 0 0 0 0;\n",
              "      width: 32px;\n",
              "    }\n",
              "\n",
              "    .colab-df-convert:hover {\n",
              "      background-color: #E2EBFA;\n",
              "      box-shadow: 0px 1px 2px rgba(60, 64, 67, 0.3), 0px 1px 3px 1px rgba(60, 64, 67, 0.15);\n",
              "      fill: #174EA6;\n",
              "    }\n",
              "\n",
              "    [theme=dark] .colab-df-convert {\n",
              "      background-color: #3B4455;\n",
              "      fill: #D2E3FC;\n",
              "    }\n",
              "\n",
              "    [theme=dark] .colab-df-convert:hover {\n",
              "      background-color: #434B5C;\n",
              "      box-shadow: 0px 1px 3px 1px rgba(0, 0, 0, 0.15);\n",
              "      filter: drop-shadow(0px 1px 2px rgba(0, 0, 0, 0.3));\n",
              "      fill: #FFFFFF;\n",
              "    }\n",
              "  </style>\n",
              "\n",
              "      <script>\n",
              "        const buttonEl =\n",
              "          document.querySelector('#df-3921532b-8dd8-402a-8613-f26db5860f4e button.colab-df-convert');\n",
              "        buttonEl.style.display =\n",
              "          google.colab.kernel.accessAllowed ? 'block' : 'none';\n",
              "\n",
              "        async function convertToInteractive(key) {\n",
              "          const element = document.querySelector('#df-3921532b-8dd8-402a-8613-f26db5860f4e');\n",
              "          const dataTable =\n",
              "            await google.colab.kernel.invokeFunction('convertToInteractive',\n",
              "                                                     [key], {});\n",
              "          if (!dataTable) return;\n",
              "\n",
              "          const docLinkHtml = 'Like what you see? Visit the ' +\n",
              "            '<a target=\"_blank\" href=https://colab.research.google.com/notebooks/data_table.ipynb>data table notebook</a>'\n",
              "            + ' to learn more about interactive tables.';\n",
              "          element.innerHTML = '';\n",
              "          dataTable['output_type'] = 'display_data';\n",
              "          await google.colab.output.renderOutput(dataTable, element);\n",
              "          const docLink = document.createElement('div');\n",
              "          docLink.innerHTML = docLinkHtml;\n",
              "          element.appendChild(docLink);\n",
              "        }\n",
              "      </script>\n",
              "    </div>\n",
              "  </div>\n",
              "  "
            ]
          },
          "metadata": {},
          "execution_count": 425
        }
      ]
    },
    {
      "cell_type": "code",
      "source": [
        "new_df=new_df.drop(columns='Currency')"
      ],
      "metadata": {
        "id": "4T9npNZwvs6s"
      },
      "execution_count": 426,
      "outputs": []
    },
    {
      "cell_type": "code",
      "source": [
        "new_df.info()"
      ],
      "metadata": {
        "colab": {
          "base_uri": "https://localhost:8080/"
        },
        "id": "yJGavLoQYB5P",
        "outputId": "5f3b373d-d0cf-40be-82bf-a651d149f45e"
      },
      "execution_count": 427,
      "outputs": [
        {
          "output_type": "stream",
          "name": "stdout",
          "text": [
            "<class 'pandas.core.frame.DataFrame'>\n",
            "RangeIndex: 9888 entries, 0 to 9887\n",
            "Data columns (total 10 columns):\n",
            " #   Column                       Non-Null Count  Dtype  \n",
            "---  ------                       --------------  -----  \n",
            " 0   Price                        9888 non-null   float64\n",
            " 1   Boat Type                    9888 non-null   object \n",
            " 2   Manufacturer                 8550 non-null   object \n",
            " 3   Type                         9882 non-null   object \n",
            " 4   Year Built                   9888 non-null   int64  \n",
            " 5   Length                       9879 non-null   float64\n",
            " 6   Width                        9832 non-null   float64\n",
            " 7   Material                     8139 non-null   object \n",
            " 8   Location                     9852 non-null   object \n",
            " 9   Number of views last 7 days  9888 non-null   int64  \n",
            "dtypes: float64(3), int64(2), object(5)\n",
            "memory usage: 772.6+ KB\n"
          ]
        }
      ]
    },
    {
      "cell_type": "code",
      "source": [
        "#checking the stats:\n",
        "new_df.describe(percentiles=[0.01,0.1,0.25,0.5,0.75,0.9,0.95,0.99])"
      ],
      "metadata": {
        "colab": {
          "base_uri": "https://localhost:8080/",
          "height": 457
        },
        "id": "1GSo93SSkdfn",
        "outputId": "851cee7a-4752-4f90-b5af-bc60a8143450"
      },
      "execution_count": 428,
      "outputs": [
        {
          "output_type": "execute_result",
          "data": {
            "text/plain": [
              "              Price   Year Built       Length        Width  \\\n",
              "count  9.888000e+03  9888.000000  9879.000000  9832.000000   \n",
              "mean   3.019859e+05  1893.192860    11.570017     3.520124   \n",
              "std    9.681991e+05   460.201582     6.002820     1.220534   \n",
              "min    3.224000e+03     0.000000     1.040000     0.010000   \n",
              "1%     6.217500e+03     0.000000     4.260000     1.650000   \n",
              "10%    2.108100e+04  1976.000000     6.000000     2.290000   \n",
              "25%    4.298750e+04  1996.000000     7.470000     2.540000   \n",
              "50%    9.250000e+04  2007.000000    10.280000     3.330000   \n",
              "75%    2.478650e+05  2017.000000    13.930000     4.250000   \n",
              "90%    5.800000e+05  2020.000000    18.800000     5.000000   \n",
              "95%    9.988250e+05  2020.000000    22.600000     5.600000   \n",
              "99%    3.642485e+06  2020.000000    32.513200     7.266900   \n",
              "max    3.100000e+07  2021.000000   100.000000    25.160000   \n",
              "\n",
              "       Number of views last 7 days  \n",
              "count                  9888.000000  \n",
              "mean                    149.160801  \n",
              "std                     151.819752  \n",
              "min                      13.000000  \n",
              "1%                       27.000000  \n",
              "10%                      48.000000  \n",
              "25%                      70.000000  \n",
              "50%                     108.000000  \n",
              "75%                     172.000000  \n",
              "90%                     283.000000  \n",
              "95%                     389.000000  \n",
              "99%                     773.650000  \n",
              "max                    3263.000000  "
            ],
            "text/html": [
              "\n",
              "  <div id=\"df-7ac501e0-5913-423a-9af7-fcdb6e014bcc\">\n",
              "    <div class=\"colab-df-container\">\n",
              "      <div>\n",
              "<style scoped>\n",
              "    .dataframe tbody tr th:only-of-type {\n",
              "        vertical-align: middle;\n",
              "    }\n",
              "\n",
              "    .dataframe tbody tr th {\n",
              "        vertical-align: top;\n",
              "    }\n",
              "\n",
              "    .dataframe thead th {\n",
              "        text-align: right;\n",
              "    }\n",
              "</style>\n",
              "<table border=\"1\" class=\"dataframe\">\n",
              "  <thead>\n",
              "    <tr style=\"text-align: right;\">\n",
              "      <th></th>\n",
              "      <th>Price</th>\n",
              "      <th>Year Built</th>\n",
              "      <th>Length</th>\n",
              "      <th>Width</th>\n",
              "      <th>Number of views last 7 days</th>\n",
              "    </tr>\n",
              "  </thead>\n",
              "  <tbody>\n",
              "    <tr>\n",
              "      <th>count</th>\n",
              "      <td>9.888000e+03</td>\n",
              "      <td>9888.000000</td>\n",
              "      <td>9879.000000</td>\n",
              "      <td>9832.000000</td>\n",
              "      <td>9888.000000</td>\n",
              "    </tr>\n",
              "    <tr>\n",
              "      <th>mean</th>\n",
              "      <td>3.019859e+05</td>\n",
              "      <td>1893.192860</td>\n",
              "      <td>11.570017</td>\n",
              "      <td>3.520124</td>\n",
              "      <td>149.160801</td>\n",
              "    </tr>\n",
              "    <tr>\n",
              "      <th>std</th>\n",
              "      <td>9.681991e+05</td>\n",
              "      <td>460.201582</td>\n",
              "      <td>6.002820</td>\n",
              "      <td>1.220534</td>\n",
              "      <td>151.819752</td>\n",
              "    </tr>\n",
              "    <tr>\n",
              "      <th>min</th>\n",
              "      <td>3.224000e+03</td>\n",
              "      <td>0.000000</td>\n",
              "      <td>1.040000</td>\n",
              "      <td>0.010000</td>\n",
              "      <td>13.000000</td>\n",
              "    </tr>\n",
              "    <tr>\n",
              "      <th>1%</th>\n",
              "      <td>6.217500e+03</td>\n",
              "      <td>0.000000</td>\n",
              "      <td>4.260000</td>\n",
              "      <td>1.650000</td>\n",
              "      <td>27.000000</td>\n",
              "    </tr>\n",
              "    <tr>\n",
              "      <th>10%</th>\n",
              "      <td>2.108100e+04</td>\n",
              "      <td>1976.000000</td>\n",
              "      <td>6.000000</td>\n",
              "      <td>2.290000</td>\n",
              "      <td>48.000000</td>\n",
              "    </tr>\n",
              "    <tr>\n",
              "      <th>25%</th>\n",
              "      <td>4.298750e+04</td>\n",
              "      <td>1996.000000</td>\n",
              "      <td>7.470000</td>\n",
              "      <td>2.540000</td>\n",
              "      <td>70.000000</td>\n",
              "    </tr>\n",
              "    <tr>\n",
              "      <th>50%</th>\n",
              "      <td>9.250000e+04</td>\n",
              "      <td>2007.000000</td>\n",
              "      <td>10.280000</td>\n",
              "      <td>3.330000</td>\n",
              "      <td>108.000000</td>\n",
              "    </tr>\n",
              "    <tr>\n",
              "      <th>75%</th>\n",
              "      <td>2.478650e+05</td>\n",
              "      <td>2017.000000</td>\n",
              "      <td>13.930000</td>\n",
              "      <td>4.250000</td>\n",
              "      <td>172.000000</td>\n",
              "    </tr>\n",
              "    <tr>\n",
              "      <th>90%</th>\n",
              "      <td>5.800000e+05</td>\n",
              "      <td>2020.000000</td>\n",
              "      <td>18.800000</td>\n",
              "      <td>5.000000</td>\n",
              "      <td>283.000000</td>\n",
              "    </tr>\n",
              "    <tr>\n",
              "      <th>95%</th>\n",
              "      <td>9.988250e+05</td>\n",
              "      <td>2020.000000</td>\n",
              "      <td>22.600000</td>\n",
              "      <td>5.600000</td>\n",
              "      <td>389.000000</td>\n",
              "    </tr>\n",
              "    <tr>\n",
              "      <th>99%</th>\n",
              "      <td>3.642485e+06</td>\n",
              "      <td>2020.000000</td>\n",
              "      <td>32.513200</td>\n",
              "      <td>7.266900</td>\n",
              "      <td>773.650000</td>\n",
              "    </tr>\n",
              "    <tr>\n",
              "      <th>max</th>\n",
              "      <td>3.100000e+07</td>\n",
              "      <td>2021.000000</td>\n",
              "      <td>100.000000</td>\n",
              "      <td>25.160000</td>\n",
              "      <td>3263.000000</td>\n",
              "    </tr>\n",
              "  </tbody>\n",
              "</table>\n",
              "</div>\n",
              "      <button class=\"colab-df-convert\" onclick=\"convertToInteractive('df-7ac501e0-5913-423a-9af7-fcdb6e014bcc')\"\n",
              "              title=\"Convert this dataframe to an interactive table.\"\n",
              "              style=\"display:none;\">\n",
              "        \n",
              "  <svg xmlns=\"http://www.w3.org/2000/svg\" height=\"24px\"viewBox=\"0 0 24 24\"\n",
              "       width=\"24px\">\n",
              "    <path d=\"M0 0h24v24H0V0z\" fill=\"none\"/>\n",
              "    <path d=\"M18.56 5.44l.94 2.06.94-2.06 2.06-.94-2.06-.94-.94-2.06-.94 2.06-2.06.94zm-11 1L8.5 8.5l.94-2.06 2.06-.94-2.06-.94L8.5 2.5l-.94 2.06-2.06.94zm10 10l.94 2.06.94-2.06 2.06-.94-2.06-.94-.94-2.06-.94 2.06-2.06.94z\"/><path d=\"M17.41 7.96l-1.37-1.37c-.4-.4-.92-.59-1.43-.59-.52 0-1.04.2-1.43.59L10.3 9.45l-7.72 7.72c-.78.78-.78 2.05 0 2.83L4 21.41c.39.39.9.59 1.41.59.51 0 1.02-.2 1.41-.59l7.78-7.78 2.81-2.81c.8-.78.8-2.07 0-2.86zM5.41 20L4 18.59l7.72-7.72 1.47 1.35L5.41 20z\"/>\n",
              "  </svg>\n",
              "      </button>\n",
              "      \n",
              "  <style>\n",
              "    .colab-df-container {\n",
              "      display:flex;\n",
              "      flex-wrap:wrap;\n",
              "      gap: 12px;\n",
              "    }\n",
              "\n",
              "    .colab-df-convert {\n",
              "      background-color: #E8F0FE;\n",
              "      border: none;\n",
              "      border-radius: 50%;\n",
              "      cursor: pointer;\n",
              "      display: none;\n",
              "      fill: #1967D2;\n",
              "      height: 32px;\n",
              "      padding: 0 0 0 0;\n",
              "      width: 32px;\n",
              "    }\n",
              "\n",
              "    .colab-df-convert:hover {\n",
              "      background-color: #E2EBFA;\n",
              "      box-shadow: 0px 1px 2px rgba(60, 64, 67, 0.3), 0px 1px 3px 1px rgba(60, 64, 67, 0.15);\n",
              "      fill: #174EA6;\n",
              "    }\n",
              "\n",
              "    [theme=dark] .colab-df-convert {\n",
              "      background-color: #3B4455;\n",
              "      fill: #D2E3FC;\n",
              "    }\n",
              "\n",
              "    [theme=dark] .colab-df-convert:hover {\n",
              "      background-color: #434B5C;\n",
              "      box-shadow: 0px 1px 3px 1px rgba(0, 0, 0, 0.15);\n",
              "      filter: drop-shadow(0px 1px 2px rgba(0, 0, 0, 0.3));\n",
              "      fill: #FFFFFF;\n",
              "    }\n",
              "  </style>\n",
              "\n",
              "      <script>\n",
              "        const buttonEl =\n",
              "          document.querySelector('#df-7ac501e0-5913-423a-9af7-fcdb6e014bcc button.colab-df-convert');\n",
              "        buttonEl.style.display =\n",
              "          google.colab.kernel.accessAllowed ? 'block' : 'none';\n",
              "\n",
              "        async function convertToInteractive(key) {\n",
              "          const element = document.querySelector('#df-7ac501e0-5913-423a-9af7-fcdb6e014bcc');\n",
              "          const dataTable =\n",
              "            await google.colab.kernel.invokeFunction('convertToInteractive',\n",
              "                                                     [key], {});\n",
              "          if (!dataTable) return;\n",
              "\n",
              "          const docLinkHtml = 'Like what you see? Visit the ' +\n",
              "            '<a target=\"_blank\" href=https://colab.research.google.com/notebooks/data_table.ipynb>data table notebook</a>'\n",
              "            + ' to learn more about interactive tables.';\n",
              "          element.innerHTML = '';\n",
              "          dataTable['output_type'] = 'display_data';\n",
              "          await google.colab.output.renderOutput(dataTable, element);\n",
              "          const docLink = document.createElement('div');\n",
              "          docLink.innerHTML = docLinkHtml;\n",
              "          element.appendChild(docLink);\n",
              "        }\n",
              "      </script>\n",
              "    </div>\n",
              "  </div>\n",
              "  "
            ]
          },
          "metadata": {},
          "execution_count": 428
        }
      ]
    },
    {
      "cell_type": "code",
      "source": [
        "#checking for outliers:\n",
        "sns.boxplot(new_df)"
      ],
      "metadata": {
        "colab": {
          "base_uri": "https://localhost:8080/",
          "height": 462
        },
        "id": "epghAHxAkvwK",
        "outputId": "d0e9fd9b-72c7-41b8-9355-052237dbf6ab"
      },
      "execution_count": 429,
      "outputs": [
        {
          "output_type": "execute_result",
          "data": {
            "text/plain": [
              "<Axes: >"
            ]
          },
          "metadata": {},
          "execution_count": 429
        },
        {
          "output_type": "display_data",
          "data": {
            "text/plain": [
              "<Figure size 640x480 with 1 Axes>"
            ],
            "image/png": "[encoded data removed]"
          },
          "metadata": {}
        }
      ]
    },
    {
      "cell_type": "code",
      "source": [
        "#checking for correlation:\n",
        "sns.heatmap(new_df.corr(),annot=True)"
      ],
      "metadata": {
        "colab": {
          "base_uri": "https://localhost:8080/",
          "height": 635
        },
        "id": "CDQn19rXk5gd",
        "outputId": "13252559-4499-4817-a75d-5536053d8137"
      },
      "execution_count": 430,
      "outputs": [
        {
          "output_type": "execute_result",
          "data": {
            "text/plain": [
              "<Axes: >"
            ]
          },
          "metadata": {},
          "execution_count": 430
        },
        {
          "output_type": "display_data",
          "data": {
            "text/plain": [
              "<Figure size 640x480 with 2 Axes>"
            ],
            "image/png": "[encoded data removed]"
          },
          "metadata": {}
        }
      ]
    },
    {
      "cell_type": "code",
      "source": [
        "# analysing the boat type:\n",
        "new_df['Boat Type'].nunique()"
      ],
      "metadata": {
        "colab": {
          "base_uri": "https://localhost:8080/"
        },
        "id": "iryBuD7cJzWY",
        "outputId": "4a3c627f-10a9-4e35-a0ce-5b23537c4322"
      },
      "execution_count": 431,
      "outputs": [
        {
          "output_type": "execute_result",
          "data": {
            "text/plain": [
              "126"
            ]
          },
          "metadata": {},
          "execution_count": 431
        }
      ]
    },
    {
      "cell_type": "code",
      "source": [
        "new_df['Boat Type'].value_counts().head(20)"
      ],
      "metadata": {
        "colab": {
          "base_uri": "https://localhost:8080/"
        },
        "id": "TOjbfxUdeiCi",
        "outputId": "39f756db-2ad4-44f5-8f59-e0bc910ac7d0"
      },
      "execution_count": 432,
      "outputs": [
        {
          "output_type": "execute_result",
          "data": {
            "text/plain": [
              "Motor Yacht            2720\n",
              "Sport Boat             1407\n",
              "Flybridge              1194\n",
              "Trawler                 679\n",
              "Pilothouse              613\n",
              "Cabin Boat              585\n",
              "Hardtop                 507\n",
              "Center console boat     369\n",
              "Bowrider                301\n",
              "Deck Boat               283\n",
              "Fishing Boat            173\n",
              "House Boat              145\n",
              "Mega Yacht              108\n",
              "Pontoon Boat             91\n",
              "Runabout                 73\n",
              "Classic                  59\n",
              "Classic,Runabout         59\n",
              "Wakeboard/Wakesurf       58\n",
              "Launch                   55\n",
              "Offshore Boat            54\n",
              "Name: Boat Type, dtype: int64"
            ]
          },
          "metadata": {},
          "execution_count": 432
        }
      ]
    },
    {
      "cell_type": "code",
      "source": [
        "#keeping boats with more than 200 value counts, replacing rest with 'others'\n",
        "counts = new_df['Boat Type'].value_counts()\n",
        "replace_list = counts[counts<200].index\n",
        "new_df['Boat Type'].replace(replace_list,'others',inplace=True)"
      ],
      "metadata": {
        "id": "9A66hD2JeaSY"
      },
      "execution_count": 433,
      "outputs": []
    },
    {
      "cell_type": "code",
      "source": [
        "new_df['Boat Type'].value_counts()"
      ],
      "metadata": {
        "colab": {
          "base_uri": "https://localhost:8080/"
        },
        "id": "8DLqfJYdfX0g",
        "outputId": "45460b73-75c5-4bb2-bf57-c36f5a9cbd8a"
      },
      "execution_count": 434,
      "outputs": [
        {
          "output_type": "execute_result",
          "data": {
            "text/plain": [
              "Motor Yacht            2720\n",
              "Sport Boat             1407\n",
              "others                 1230\n",
              "Flybridge              1194\n",
              "Trawler                 679\n",
              "Pilothouse              613\n",
              "Cabin Boat              585\n",
              "Hardtop                 507\n",
              "Center console boat     369\n",
              "Bowrider                301\n",
              "Deck Boat               283\n",
              "Name: Boat Type, dtype: int64"
            ]
          },
          "metadata": {},
          "execution_count": 434
        }
      ]
    },
    {
      "cell_type": "code",
      "source": [
        "new_df['Manufacturer'].nunique()"
      ],
      "metadata": {
        "colab": {
          "base_uri": "https://localhost:8080/"
        },
        "id": "Bnc_d-JJEHAC",
        "outputId": "9865dd6c-e95d-4563-998f-d2090976e84a"
      },
      "execution_count": 435,
      "outputs": [
        {
          "output_type": "execute_result",
          "data": {
            "text/plain": [
              "910"
            ]
          },
          "metadata": {},
          "execution_count": 435
        }
      ]
    },
    {
      "cell_type": "code",
      "source": [
        "#analysing Manufacturer\n",
        "new_df['Manufacturer'].value_counts()"
      ],
      "metadata": {
        "colab": {
          "base_uri": "https://localhost:8080/"
        },
        "id": "QrRLJZjXJ90G",
        "outputId": "f91c7bbb-6a1e-40d1-ed57-0c7b29656b7b"
      },
      "execution_count": 436,
      "outputs": [
        {
          "output_type": "execute_result",
          "data": {
            "text/plain": [
              "BÃ©nÃ©teau power boats         631\n",
              "Jeanneau power boats           537\n",
              "Sunseeker power boats          383\n",
              "Princess power boats           241\n",
              "Sea Ray power boats            239\n",
              "                              ... \n",
              "Aegean Yachts power boats        1\n",
              "ISA Yachts power boats           1\n",
              "Couach power boats               1\n",
              "Perini Navi Spa power boats      1\n",
              "Hunter power boats               1\n",
              "Name: Manufacturer, Length: 910, dtype: int64"
            ]
          },
          "metadata": {},
          "execution_count": 436
        }
      ]
    },
    {
      "cell_type": "code",
      "source": [
        "# filling the missing values with 'others':\n",
        "new_df['Manufacturer'] = new_df['Manufacturer'].fillna('others')"
      ],
      "metadata": {
        "id": "YRX8SE0TO4S_"
      },
      "execution_count": 437,
      "outputs": []
    },
    {
      "cell_type": "code",
      "source": [
        "#keeping Manufacturers with more than 100 value counts, replacing rest with 'others2'\n",
        "counts = new_df['Manufacturer'].value_counts()\n",
        "replace_list = counts[counts<20].index\n",
        "new_df['Manufacturer'].replace(replace_list,'others3',inplace=True)\n",
        "replace_list = counts[counts<50].index\n",
        "new_df['Manufacturer'].replace(replace_list,'others2',inplace=True)"
      ],
      "metadata": {
        "id": "r7pch8vBRjIL"
      },
      "execution_count": 438,
      "outputs": []
    },
    {
      "cell_type": "code",
      "source": [
        "new_df['Manufacturer'].value_counts()"
      ],
      "metadata": {
        "colab": {
          "base_uri": "https://localhost:8080/"
        },
        "id": "GfiGi0dvfwlW",
        "outputId": "0cca6009-f909-4d54-8e4f-32aa1fae69d0"
      },
      "execution_count": 439,
      "outputs": [
        {
          "output_type": "execute_result",
          "data": {
            "text/plain": [
              "others3                                       2803\n",
              "others2                                       1443\n",
              "others                                        1338\n",
              "BÃ©nÃ©teau power boats                         631\n",
              "Jeanneau power boats                           537\n",
              "Sunseeker power boats                          383\n",
              "Princess power boats                           241\n",
              "Sea Ray power boats                            239\n",
              "Cranchi power boats                            219\n",
              "Azimut power boats                             215\n",
              "Bavaria power boats                            185\n",
              "Fairline power boats                           172\n",
              "Quicksilver (Brunswick Marine) power boats     167\n",
              "Sessa power boats                              148\n",
              "Bayliner power boats                           142\n",
              "Sealine power boats                            120\n",
              "Quicksilver power boats                        118\n",
              "Prestige Yachts power boats                    108\n",
              "Galeon power boats                              94\n",
              "Regal power boats                               90\n",
              "Riva power boats                                77\n",
              "Linssen power boats                             70\n",
              "Windy power boats                               64\n",
              "Ferretti power boats                            63\n",
              "Parker power boats                              62\n",
              "Boesch power boats                              55\n",
              "Pershing power boats                            54\n",
              "Four Winns power boats                          50\n",
              "Name: Manufacturer, dtype: int64"
            ]
          },
          "metadata": {},
          "execution_count": 439
        }
      ]
    },
    {
      "cell_type": "code",
      "source": [
        "#analysing type:\n",
        "new_df['Type'].nunique()"
      ],
      "metadata": {
        "colab": {
          "base_uri": "https://localhost:8080/"
        },
        "id": "b5RhqjuXKUOU",
        "outputId": "79c5d81d-e74b-4ce7-ef57-dd71b13de60f"
      },
      "execution_count": 440,
      "outputs": [
        {
          "output_type": "execute_result",
          "data": {
            "text/plain": [
              "24"
            ]
          },
          "metadata": {},
          "execution_count": 440
        }
      ]
    },
    {
      "cell_type": "code",
      "source": [
        "new_df['Type'].value_counts()"
      ],
      "metadata": {
        "colab": {
          "base_uri": "https://localhost:8080/"
        },
        "id": "CxjIVDBiKhIs",
        "outputId": "2d8dad82-b9e7-49ea-cce2-18fa65ef9767"
      },
      "execution_count": 441,
      "outputs": [
        {
          "output_type": "execute_result",
          "data": {
            "text/plain": [
              "Used boat,Diesel                4140\n",
              "Used boat,Unleaded              1686\n",
              "Used boat                       1462\n",
              "new boat from stock,Unleaded    1107\n",
              "new boat from stock              665\n",
              "new boat from stock,Diesel       291\n",
              "new boat on order,Unleaded       150\n",
              "Display Model,Unleaded            75\n",
              "new boat on order                 61\n",
              "new boat on order,Diesel          61\n",
              "Diesel                            57\n",
              "Used boat,Electric                27\n",
              "Unleaded                          22\n",
              "Display Model,Diesel              19\n",
              "new boat from stock,Electric      18\n",
              "Display Model                     18\n",
              "Used boat,Gas                     10\n",
              "Display Model,Electric             6\n",
              "new boat from stock,Gas            2\n",
              "new boat from stock,Hybrid         1\n",
              "Used boat,Hybrid                   1\n",
              "Display Model,Gas                  1\n",
              "Electric                           1\n",
              "Used boat,Propane                  1\n",
              "Name: Type, dtype: int64"
            ]
          },
          "metadata": {},
          "execution_count": 441
        }
      ]
    },
    {
      "cell_type": "code",
      "source": [
        "#keeping Type with more than 50 value counts, replacing rest with 'others'\n",
        "counts = new_df['Type'].value_counts()\n",
        "replace_list = counts[counts<50].index\n",
        "new_df['Type'].replace(replace_list,'others',inplace=True)"
      ],
      "metadata": {
        "id": "94bEbD7EguTK"
      },
      "execution_count": 442,
      "outputs": []
    },
    {
      "cell_type": "code",
      "source": [
        "new_df['Type'] = new_df['Type'].fillna('others')\n",
        "new_df['Type'].value_counts()"
      ],
      "metadata": {
        "colab": {
          "base_uri": "https://localhost:8080/"
        },
        "id": "XdNsQVt3QwyU",
        "outputId": "b97d9c04-b8da-4738-90ed-f256458fb117"
      },
      "execution_count": 443,
      "outputs": [
        {
          "output_type": "execute_result",
          "data": {
            "text/plain": [
              "Used boat,Diesel                4140\n",
              "Used boat,Unleaded              1686\n",
              "Used boat                       1462\n",
              "new boat from stock,Unleaded    1107\n",
              "new boat from stock              665\n",
              "new boat from stock,Diesel       291\n",
              "new boat on order,Unleaded       150\n",
              "others                           133\n",
              "Display Model,Unleaded            75\n",
              "new boat on order                 61\n",
              "new boat on order,Diesel          61\n",
              "Diesel                            57\n",
              "Name: Type, dtype: int64"
            ]
          },
          "metadata": {},
          "execution_count": 443
        }
      ]
    },
    {
      "cell_type": "code",
      "source": [
        "new_df['Year Built'].unique()"
      ],
      "metadata": {
        "colab": {
          "base_uri": "https://localhost:8080/"
        },
        "id": "ZnlFyT0FhRKa",
        "outputId": "3875a34d-e1d7-417e-8cc1-3dd034487dfb"
      },
      "execution_count": 444,
      "outputs": [
        {
          "output_type": "execute_result",
          "data": {
            "text/plain": [
              "array([2017, 2020,    0, 2019, 1999, 2018, 1987, 2004, 1997, 1985, 1981,\n",
              "       2011, 1979, 1998, 1994, 1996, 1972, 1980, 1974, 1983, 1991, 1992,\n",
              "       1961, 2015, 2000, 1993, 1968, 2007, 1990, 2010, 1975, 1986, 1941,\n",
              "       1971, 2005, 1995, 1976, 2001, 2006, 2016, 1984, 1964, 1978, 1940,\n",
              "       1988, 2003, 1977, 1973, 1970, 1913, 1965, 1950, 2014, 2002, 1963,\n",
              "       2008, 1948, 1960, 1930, 2009, 1989, 1969, 1982, 1937, 2013, 2012,\n",
              "       1954, 1959, 1909, 1926, 1910, 1962, 1938, 1936, 1967, 1903, 1933,\n",
              "       1906, 1908, 2021, 1927, 1929, 1956, 1958, 1922, 1952, 1957, 1928,\n",
              "       1905, 1951, 1911, 1966, 1915, 1934, 1939, 1953, 1924, 1931, 1920,\n",
              "       1898, 1955, 1907, 1885, 1895, 1914, 1901, 1942, 1919, 1925, 1889,\n",
              "       1946, 1904, 1923, 1917, 1935, 1949, 1947, 1912, 1945, 1897, 1902,\n",
              "       1900])"
            ]
          },
          "metadata": {},
          "execution_count": 444
        }
      ]
    },
    {
      "cell_type": "code",
      "source": [
        "new_df['Year Built'].value_counts()"
      ],
      "metadata": {
        "colab": {
          "base_uri": "https://localhost:8080/"
        },
        "id": "-FdZEdwuUQAI",
        "outputId": "a7eb6eb1-059c-4126-8f0a-fe29a521567f"
      },
      "execution_count": 445,
      "outputs": [
        {
          "output_type": "execute_result",
          "data": {
            "text/plain": [
              "2020    1279\n",
              "2019     663\n",
              "0        551\n",
              "2008     457\n",
              "2007     393\n",
              "        ... \n",
              "1914       1\n",
              "1895       1\n",
              "1885       1\n",
              "1931       1\n",
              "1900       1\n",
              "Name: Year Built, Length: 122, dtype: int64"
            ]
          },
          "metadata": {},
          "execution_count": 445
        }
      ]
    },
    {
      "cell_type": "code",
      "source": [
        "sorted(new_df['Year Built'].unique())[1]"
      ],
      "metadata": {
        "colab": {
          "base_uri": "https://localhost:8080/"
        },
        "id": "3WJ6I8fBhvo3",
        "outputId": "9ef15b8f-0a4d-4147-80b4-d3af441c0e2e"
      },
      "execution_count": 446,
      "outputs": [
        {
          "output_type": "execute_result",
          "data": {
            "text/plain": [
              "1885"
            ]
          },
          "metadata": {},
          "execution_count": 446
        }
      ]
    },
    {
      "cell_type": "code",
      "source": [
        "#replacing year 0 with the earliest year-1 ie 1884:\n",
        "new_df['Year Built'].replace(0,1884,inplace=True)"
      ],
      "metadata": {
        "id": "xQLoRfP6hkVh"
      },
      "execution_count": 447,
      "outputs": []
    },
    {
      "cell_type": "code",
      "source": [
        "new_df['Year Built'].value_counts()"
      ],
      "metadata": {
        "colab": {
          "base_uri": "https://localhost:8080/"
        },
        "id": "bsPFkcx0iDle",
        "outputId": "a77a239b-554d-4241-be2d-8b3e32c43940"
      },
      "execution_count": 448,
      "outputs": [
        {
          "output_type": "execute_result",
          "data": {
            "text/plain": [
              "2020    1279\n",
              "2019     663\n",
              "1884     551\n",
              "2008     457\n",
              "2007     393\n",
              "        ... \n",
              "1914       1\n",
              "1895       1\n",
              "1885       1\n",
              "1931       1\n",
              "1900       1\n",
              "Name: Year Built, Length: 122, dtype: int64"
            ]
          },
          "metadata": {},
          "execution_count": 448
        }
      ]
    },
    {
      "cell_type": "code",
      "source": [
        "#length\n",
        "new_df['Length']"
      ],
      "metadata": {
        "colab": {
          "base_uri": "https://localhost:8080/"
        },
        "id": "2Mf3jRzcUkNw",
        "outputId": "f28c5324-bd38-43ee-8bbe-5d5ab44439dd"
      },
      "execution_count": 449,
      "outputs": [
        {
          "output_type": "execute_result",
          "data": {
            "text/plain": [
              "0       4.00\n",
              "1       4.00\n",
              "2       3.69\n",
              "3       3.00\n",
              "4       3.55\n",
              "        ... \n",
              "9883    6.30\n",
              "9884    4.17\n",
              "9885    4.40\n",
              "9886    4.37\n",
              "9887    3.60\n",
              "Name: Length, Length: 9888, dtype: float64"
            ]
          },
          "metadata": {},
          "execution_count": 449
        }
      ]
    },
    {
      "cell_type": "code",
      "source": [
        "# replacing the null values with the mean\n",
        "new_df['Length'].fillna(new_df['Length'].mean(),inplace=True)"
      ],
      "metadata": {
        "id": "seoDIR4UX4Xy"
      },
      "execution_count": 450,
      "outputs": []
    },
    {
      "cell_type": "code",
      "source": [
        "#width\n",
        "new_df['Width']"
      ],
      "metadata": {
        "colab": {
          "base_uri": "https://localhost:8080/"
        },
        "id": "6N4NnDVUV6W1",
        "outputId": "73e8987f-4d2b-443a-9d0a-e41a34600e3c"
      },
      "execution_count": 451,
      "outputs": [
        {
          "output_type": "execute_result",
          "data": {
            "text/plain": [
              "0       1.90\n",
              "1       1.50\n",
              "2       1.42\n",
              "3       1.00\n",
              "4       1.46\n",
              "        ... \n",
              "9883    2.44\n",
              "9884    1.68\n",
              "9885    1.80\n",
              "9886    1.89\n",
              "9887    1.60\n",
              "Name: Width, Length: 9888, dtype: float64"
            ]
          },
          "metadata": {},
          "execution_count": 451
        }
      ]
    },
    {
      "cell_type": "code",
      "source": [
        "# replacing the null values with the mean\n",
        "new_df['Width'].fillna(new_df['Width'].mean(),inplace=True)"
      ],
      "metadata": {
        "id": "4uBZQ-n1Xh2W"
      },
      "execution_count": 452,
      "outputs": []
    },
    {
      "cell_type": "code",
      "source": [
        "#filling the null values in materials with 'other'\n",
        "new_df['Material'] = new_df['Material'].fillna('other')"
      ],
      "metadata": {
        "id": "YRmPw-s8WGwy"
      },
      "execution_count": 453,
      "outputs": []
    },
    {
      "cell_type": "code",
      "source": [
        "new_df['Material'].value_counts()"
      ],
      "metadata": {
        "colab": {
          "base_uri": "https://localhost:8080/"
        },
        "id": "yLcCqLZHWBWG",
        "outputId": "41d1d2b4-9a47-4cdb-ae3a-19bfcf788f7e"
      },
      "execution_count": 454,
      "outputs": [
        {
          "output_type": "execute_result",
          "data": {
            "text/plain": [
              "GRP                    5484\n",
              "other                  1749\n",
              "PVC                    1123\n",
              "Steel                   939\n",
              "Wood                    235\n",
              "Aluminium               229\n",
              "Plastic                  77\n",
              "Carbon Fiber             30\n",
              "Thermoplastic            15\n",
              "Hypalon                   5\n",
              "Reinforced concrete       1\n",
              "Rubber                    1\n",
              "Name: Material, dtype: int64"
            ]
          },
          "metadata": {},
          "execution_count": 454
        }
      ]
    },
    {
      "cell_type": "code",
      "source": [
        "#Location\n",
        "new_df['Location'].value_counts()"
      ],
      "metadata": {
        "colab": {
          "base_uri": "https://localhost:8080/"
        },
        "id": "rJHF3tjQWTb6",
        "outputId": "8d3ff3b4-11f7-40e3-85d7-aad0c52e464c"
      },
      "execution_count": 455,
      "outputs": [
        {
          "output_type": "execute_result",
          "data": {
            "text/plain": [
              "Netherlands Â» In verkoophaven                      309\n",
              "Croatia (Hrvatska)                                  244\n",
              "Italy Â» Toscana Â» Toscana                         173\n",
              "Italy                                               155\n",
              "France                                              152\n",
              "                                                   ... \n",
              "Italy Â» La Spezia, Italie                            1\n",
              "France Â» Bretagne Â» Bretagne                        1\n",
              "Italy Â» Linz Marine Test Centre \"Italo Monzino\"      1\n",
              "Italy Â» Adriatic Sea (Fano)                          1\n",
              "Switzerland Â» Bielersee Â» Gerolfingen               1\n",
              "Name: Location, Length: 2995, dtype: int64"
            ]
          },
          "metadata": {},
          "execution_count": 455
        }
      ]
    },
    {
      "cell_type": "code",
      "source": [
        "#cleaning the Location column:\n",
        "new_df['Location'] = new_df['Location'].str.split(\" \",expand=True)[0]\n",
        "new_df['Location'].value_counts().head(20)"
      ],
      "metadata": {
        "colab": {
          "base_uri": "https://localhost:8080/"
        },
        "id": "imVd3eSlWoAj",
        "outputId": "0111a1ce-c807-4f59-f4ff-6816c6aa4d6d"
      },
      "execution_count": 456,
      "outputs": [
        {
          "output_type": "execute_result",
          "data": {
            "text/plain": [
              "Germany        1914\n",
              "Italy          1793\n",
              "France         1229\n",
              "Switzerland    1112\n",
              "Netherlands    1056\n",
              "Croatia         811\n",
              "Spain           702\n",
              "United          238\n",
              "Denmark         172\n",
              "Portugal        135\n",
              "Austria          88\n",
              "Greece           83\n",
              "Malta            72\n",
              "Turkey           64\n",
              "Belgium          62\n",
              "Poland           41\n",
              "Slovenia         39\n",
              "Finland          35\n",
              "Montenegro       22\n",
              "Lake             16\n",
              "Name: Location, dtype: int64"
            ]
          },
          "metadata": {},
          "execution_count": 456
        }
      ]
    },
    {
      "cell_type": "code",
      "source": [
        "new_df['Location'].fillna('others',inplace=True)"
      ],
      "metadata": {
        "id": "w_omJyulWve2"
      },
      "execution_count": 457,
      "outputs": []
    },
    {
      "cell_type": "code",
      "source": [
        "#keeping Location with more than 100 value counts, replacing rest with 'others'\n",
        "counts = new_df['Location'].value_counts()\n",
        "replace_list = counts[counts<100].index\n",
        "new_df['Location'].replace(replace_list,'others',inplace=True)"
      ],
      "metadata": {
        "id": "t1GOT2GGiT9e"
      },
      "execution_count": 458,
      "outputs": []
    },
    {
      "cell_type": "code",
      "source": [
        "df['Location'].value_counts()"
      ],
      "metadata": {
        "colab": {
          "base_uri": "https://localhost:8080/"
        },
        "id": "d2X2AAk6icoO",
        "outputId": "f14cae7b-30e2-42ca-d16c-7ee447432295"
      },
      "execution_count": 459,
      "outputs": [
        {
          "output_type": "execute_result",
          "data": {
            "text/plain": [
              "Netherlands Â» In verkoophaven                      309\n",
              "Croatia (Hrvatska)                                  244\n",
              "Italy Â» Toscana Â» Toscana                         173\n",
              "Italy                                               155\n",
              "France                                              152\n",
              "                                                   ... \n",
              "Italy Â» La Spezia, Italie                            1\n",
              "France Â» Bretagne Â» Bretagne                        1\n",
              "Italy Â» Linz Marine Test Centre \"Italo Monzino\"      1\n",
              "Italy Â» Adriatic Sea (Fano)                          1\n",
              "Switzerland Â» Bielersee Â» Gerolfingen               1\n",
              "Name: Location, Length: 2995, dtype: int64"
            ]
          },
          "metadata": {},
          "execution_count": 459
        }
      ]
    },
    {
      "cell_type": "code",
      "source": [
        "#Number of views last 7 days\n",
        "new_df['Number of views last 7 days'].nunique()"
      ],
      "metadata": {
        "colab": {
          "base_uri": "https://localhost:8080/"
        },
        "id": "5C4Kzt6WXGrQ",
        "outputId": "a2b4ef30-3a24-43c3-837a-b3517645f6dc"
      },
      "execution_count": 460,
      "outputs": [
        {
          "output_type": "execute_result",
          "data": {
            "text/plain": [
              "674"
            ]
          },
          "metadata": {},
          "execution_count": 460
        }
      ]
    },
    {
      "cell_type": "code",
      "source": [
        "#recehcking for null values:\n",
        "new_df.isnull().sum()"
      ],
      "metadata": {
        "colab": {
          "base_uri": "https://localhost:8080/"
        },
        "id": "_J0Clj1RXSO9",
        "outputId": "17ca7766-74d7-4eda-81bd-ee0e5f08a332"
      },
      "execution_count": 461,
      "outputs": [
        {
          "output_type": "execute_result",
          "data": {
            "text/plain": [
              "Price                          0\n",
              "Boat Type                      0\n",
              "Manufacturer                   0\n",
              "Type                           0\n",
              "Year Built                     0\n",
              "Length                         0\n",
              "Width                          0\n",
              "Material                       0\n",
              "Location                       0\n",
              "Number of views last 7 days    0\n",
              "dtype: int64"
            ]
          },
          "metadata": {},
          "execution_count": 461
        }
      ]
    },
    {
      "cell_type": "code",
      "source": [
        "sns.scatterplot(data=new_df,x='Length',y='Price')"
      ],
      "metadata": {
        "colab": {
          "base_uri": "https://localhost:8080/",
          "height": 482
        },
        "id": "WVEpntBmlIwL",
        "outputId": "4e446b9c-3788-455a-f0bf-c17c453dfed2"
      },
      "execution_count": 462,
      "outputs": [
        {
          "output_type": "execute_result",
          "data": {
            "text/plain": [
              "<Axes: xlabel='Length', ylabel='Price'>"
            ]
          },
          "metadata": {},
          "execution_count": 462
        },
        {
          "output_type": "display_data",
          "data": {
            "text/plain": [
              "<Figure size 640x480 with 1 Axes>"
            ],
            "image/png": "[encoded data removed]"
          },
          "metadata": {}
        }
      ]
    },
    {
      "cell_type": "code",
      "source": [
        "sns.scatterplot(data=new_df,x='Width',y='Price')"
      ],
      "metadata": {
        "colab": {
          "base_uri": "https://localhost:8080/",
          "height": 482
        },
        "id": "h2kZNcmWlSJF",
        "outputId": "5718e594-6f55-4afd-8a70-8839f2ea3c1b"
      },
      "execution_count": 463,
      "outputs": [
        {
          "output_type": "execute_result",
          "data": {
            "text/plain": [
              "<Axes: xlabel='Width', ylabel='Price'>"
            ]
          },
          "metadata": {},
          "execution_count": 463
        },
        {
          "output_type": "display_data",
          "data": {
            "text/plain": [
              "<Figure size 640x480 with 1 Axes>"
            ],
            "image/png": "[encoded data removed]"
          },
          "metadata": {}
        }
      ]
    },
    {
      "cell_type": "code",
      "source": [
        "sns.scatterplot(data=new_df,x='Number of views last 7 days',y='Price')"
      ],
      "metadata": {
        "colab": {
          "base_uri": "https://localhost:8080/",
          "height": 482
        },
        "id": "mGH-UXeTlWff",
        "outputId": "fafc42ee-c1cf-43e3-f67c-03cbb5357303"
      },
      "execution_count": 464,
      "outputs": [
        {
          "output_type": "execute_result",
          "data": {
            "text/plain": [
              "<Axes: xlabel='Number of views last 7 days', ylabel='Price'>"
            ]
          },
          "metadata": {},
          "execution_count": 464
        },
        {
          "output_type": "display_data",
          "data": {
            "text/plain": [
              "<Figure size 640x480 with 1 Axes>"
            ],
            "image/png": "[encoded data removed]"
          },
          "metadata": {}
        }
      ]
    },
    {
      "cell_type": "code",
      "source": [
        "sns.scatterplot(data=new_df,x='Year Built',y='Price')"
      ],
      "metadata": {
        "colab": {
          "base_uri": "https://localhost:8080/",
          "height": 482
        },
        "id": "iFg_KdM0leTj",
        "outputId": "8915b18d-2269-45a9-fc1e-d39a2bbced73"
      },
      "execution_count": 465,
      "outputs": [
        {
          "output_type": "execute_result",
          "data": {
            "text/plain": [
              "<Axes: xlabel='Year Built', ylabel='Price'>"
            ]
          },
          "metadata": {},
          "execution_count": 465
        },
        {
          "output_type": "display_data",
          "data": {
            "text/plain": [
              "<Figure size 640x480 with 1 Axes>"
            ],
            "image/png": "[encoded data removed]"
          },
          "metadata": {}
        }
      ]
    },
    {
      "cell_type": "code",
      "source": [
        "# splitting the independent and dependent variable:\n",
        "X = new_df.iloc[:,1:]\n",
        "y = new_df.iloc[:,0]"
      ],
      "metadata": {
        "id": "gV2Q4mBeYeMu"
      },
      "execution_count": 466,
      "outputs": []
    },
    {
      "cell_type": "code",
      "source": [
        "#Splitting the dataset into train and test:\n",
        "from sklearn.model_selection import train_test_split\n",
        "X_train,X_test,y_train,y_test = train_test_split(X,y,test_size=0.2,random_state=100)"
      ],
      "metadata": {
        "id": "vmKgMW9PXdvh"
      },
      "execution_count": 467,
      "outputs": []
    },
    {
      "cell_type": "code",
      "source": [
        "X_train.head()"
      ],
      "metadata": {
        "colab": {
          "base_uri": "https://localhost:8080/",
          "height": 206
        },
        "id": "w2pO0jDHYu8v",
        "outputId": "f96f3492-7713-4cb5-c1e9-148211dd2581"
      },
      "execution_count": 468,
      "outputs": [
        {
          "output_type": "execute_result",
          "data": {
            "text/plain": [
              "        Boat Type           Manufacturer                          Type  \\\n",
              "6762  Motor Yacht   Fairline power boats              Used boat,Diesel   \n",
              "7621     Bowrider   Bayliner power boats  new boat from stock,Unleaded   \n",
              "5148  Motor Yacht  Sunseeker power boats              Used boat,Diesel   \n",
              "4694  Motor Yacht                others3              Used boat,Diesel   \n",
              "7351   Sport Boat                others2              Used boat,Diesel   \n",
              "\n",
              "      Year Built  Length  Width Material Location  Number of views last 7 days  \n",
              "6762        1994   11.71   3.76    other    Italy                          220  \n",
              "7621        2020    6.84   2.44    other  Germany                           70  \n",
              "5148        2001   16.13   4.44      GRP  Germany                          134  \n",
              "4694        2012   14.63   4.43    other   others                          287  \n",
              "7351        1991   12.70   4.00      PVC   France                           81  "
            ],
            "text/html": [
              "\n",
              "  <div id=\"df-356fecab-efaa-41b4-b09f-cab83cbf01e8\">\n",
              "    <div class=\"colab-df-container\">\n",
              "      <div>\n",
              "<style scoped>\n",
              "    .dataframe tbody tr th:only-of-type {\n",
              "        vertical-align: middle;\n",
              "    }\n",
              "\n",
              "    .dataframe tbody tr th {\n",
              "        vertical-align: top;\n",
              "    }\n",
              "\n",
              "    .dataframe thead th {\n",
              "        text-align: right;\n",
              "    }\n",
              "</style>\n",
              "<table border=\"1\" class=\"dataframe\">\n",
              "  <thead>\n",
              "    <tr style=\"text-align: right;\">\n",
              "      <th></th>\n",
              "      <th>Boat Type</th>\n",
              "      <th>Manufacturer</th>\n",
              "      <th>Type</th>\n",
              "      <th>Year Built</th>\n",
              "      <th>Length</th>\n",
              "      <th>Width</th>\n",
              "      <th>Material</th>\n",
              "      <th>Location</th>\n",
              "      <th>Number of views last 7 days</th>\n",
              "    </tr>\n",
              "  </thead>\n",
              "  <tbody>\n",
              "    <tr>\n",
              "      <th>6762</th>\n",
              "      <td>Motor Yacht</td>\n",
              "      <td>Fairline power boats</td>\n",
              "      <td>Used boat,Diesel</td>\n",
              "      <td>1994</td>\n",
              "      <td>11.71</td>\n",
              "      <td>3.76</td>\n",
              "      <td>other</td>\n",
              "      <td>Italy</td>\n",
              "      <td>220</td>\n",
              "    </tr>\n",
              "    <tr>\n",
              "      <th>7621</th>\n",
              "      <td>Bowrider</td>\n",
              "      <td>Bayliner power boats</td>\n",
              "      <td>new boat from stock,Unleaded</td>\n",
              "      <td>2020</td>\n",
              "      <td>6.84</td>\n",
              "      <td>2.44</td>\n",
              "      <td>other</td>\n",
              "      <td>Germany</td>\n",
              "      <td>70</td>\n",
              "    </tr>\n",
              "    <tr>\n",
              "      <th>5148</th>\n",
              "      <td>Motor Yacht</td>\n",
              "      <td>Sunseeker power boats</td>\n",
              "      <td>Used boat,Diesel</td>\n",
              "      <td>2001</td>\n",
              "      <td>16.13</td>\n",
              "      <td>4.44</td>\n",
              "      <td>GRP</td>\n",
              "      <td>Germany</td>\n",
              "      <td>134</td>\n",
              "    </tr>\n",
              "    <tr>\n",
              "      <th>4694</th>\n",
              "      <td>Motor Yacht</td>\n",
              "      <td>others3</td>\n",
              "      <td>Used boat,Diesel</td>\n",
              "      <td>2012</td>\n",
              "      <td>14.63</td>\n",
              "      <td>4.43</td>\n",
              "      <td>other</td>\n",
              "      <td>others</td>\n",
              "      <td>287</td>\n",
              "    </tr>\n",
              "    <tr>\n",
              "      <th>7351</th>\n",
              "      <td>Sport Boat</td>\n",
              "      <td>others2</td>\n",
              "      <td>Used boat,Diesel</td>\n",
              "      <td>1991</td>\n",
              "      <td>12.70</td>\n",
              "      <td>4.00</td>\n",
              "      <td>PVC</td>\n",
              "      <td>France</td>\n",
              "      <td>81</td>\n",
              "    </tr>\n",
              "  </tbody>\n",
              "</table>\n",
              "</div>\n",
              "      <button class=\"colab-df-convert\" onclick=\"convertToInteractive('df-356fecab-efaa-41b4-b09f-cab83cbf01e8')\"\n",
              "              title=\"Convert this dataframe to an interactive table.\"\n",
              "              style=\"display:none;\">\n",
              "        \n",
              "  <svg xmlns=\"http://www.w3.org/2000/svg\" height=\"24px\"viewBox=\"0 0 24 24\"\n",
              "       width=\"24px\">\n",
              "    <path d=\"M0 0h24v24H0V0z\" fill=\"none\"/>\n",
              "    <path d=\"M18.56 5.44l.94 2.06.94-2.06 2.06-.94-2.06-.94-.94-2.06-.94 2.06-2.06.94zm-11 1L8.5 8.5l.94-2.06 2.06-.94-2.06-.94L8.5 2.5l-.94 2.06-2.06.94zm10 10l.94 2.06.94-2.06 2.06-.94-2.06-.94-.94-2.06-.94 2.06-2.06.94z\"/><path d=\"M17.41 7.96l-1.37-1.37c-.4-.4-.92-.59-1.43-.59-.52 0-1.04.2-1.43.59L10.3 9.45l-7.72 7.72c-.78.78-.78 2.05 0 2.83L4 21.41c.39.39.9.59 1.41.59.51 0 1.02-.2 1.41-.59l7.78-7.78 2.81-2.81c.8-.78.8-2.07 0-2.86zM5.41 20L4 18.59l7.72-7.72 1.47 1.35L5.41 20z\"/>\n",
              "  </svg>\n",
              "      </button>\n",
              "      \n",
              "  <style>\n",
              "    .colab-df-container {\n",
              "      display:flex;\n",
              "      flex-wrap:wrap;\n",
              "      gap: 12px;\n",
              "    }\n",
              "\n",
              "    .colab-df-convert {\n",
              "      background-color: #E8F0FE;\n",
              "      border: none;\n",
              "      border-radius: 50%;\n",
              "      cursor: pointer;\n",
              "      display: none;\n",
              "      fill: #1967D2;\n",
              "      height: 32px;\n",
              "      padding: 0 0 0 0;\n",
              "      width: 32px;\n",
              "    }\n",
              "\n",
              "    .colab-df-convert:hover {\n",
              "      background-color: #E2EBFA;\n",
              "      box-shadow: 0px 1px 2px rgba(60, 64, 67, 0.3), 0px 1px 3px 1px rgba(60, 64, 67, 0.15);\n",
              "      fill: #174EA6;\n",
              "    }\n",
              "\n",
              "    [theme=dark] .colab-df-convert {\n",
              "      background-color: #3B4455;\n",
              "      fill: #D2E3FC;\n",
              "    }\n",
              "\n",
              "    [theme=dark] .colab-df-convert:hover {\n",
              "      background-color: #434B5C;\n",
              "      box-shadow: 0px 1px 3px 1px rgba(0, 0, 0, 0.15);\n",
              "      filter: drop-shadow(0px 1px 2px rgba(0, 0, 0, 0.3));\n",
              "      fill: #FFFFFF;\n",
              "    }\n",
              "  </style>\n",
              "\n",
              "      <script>\n",
              "        const buttonEl =\n",
              "          document.querySelector('#df-356fecab-efaa-41b4-b09f-cab83cbf01e8 button.colab-df-convert');\n",
              "        buttonEl.style.display =\n",
              "          google.colab.kernel.accessAllowed ? 'block' : 'none';\n",
              "\n",
              "        async function convertToInteractive(key) {\n",
              "          const element = document.querySelector('#df-356fecab-efaa-41b4-b09f-cab83cbf01e8');\n",
              "          const dataTable =\n",
              "            await google.colab.kernel.invokeFunction('convertToInteractive',\n",
              "                                                     [key], {});\n",
              "          if (!dataTable) return;\n",
              "\n",
              "          const docLinkHtml = 'Like what you see? Visit the ' +\n",
              "            '<a target=\"_blank\" href=https://colab.research.google.com/notebooks/data_table.ipynb>data table notebook</a>'\n",
              "            + ' to learn more about interactive tables.';\n",
              "          element.innerHTML = '';\n",
              "          dataTable['output_type'] = 'display_data';\n",
              "          await google.colab.output.renderOutput(dataTable, element);\n",
              "          const docLink = document.createElement('div');\n",
              "          docLink.innerHTML = docLinkHtml;\n",
              "          element.appendChild(docLink);\n",
              "        }\n",
              "      </script>\n",
              "    </div>\n",
              "  </div>\n",
              "  "
            ]
          },
          "metadata": {},
          "execution_count": 468
        }
      ]
    },
    {
      "cell_type": "code",
      "source": [
        "y_train"
      ],
      "metadata": {
        "colab": {
          "base_uri": "https://localhost:8080/"
        },
        "id": "YS0RVndcZFjU",
        "outputId": "0cee6425-5ce8-4475-87f6-b9776d997127"
      },
      "execution_count": 469,
      "outputs": [
        {
          "output_type": "execute_result",
          "data": {
            "text/plain": [
              "6762     85000.0\n",
              "7621     58500.0\n",
              "5148    219000.0\n",
              "4694    290000.0\n",
              "7351     65000.0\n",
              "          ...   \n",
              "350      21740.0\n",
              "79        7500.0\n",
              "8039     51570.0\n",
              "6936     79000.0\n",
              "5640    159500.0\n",
              "Name: Price, Length: 7910, dtype: float64"
            ]
          },
          "metadata": {},
          "execution_count": 469
        }
      ]
    },
    {
      "cell_type": "code",
      "source": [
        "# preprocessing the columns:\n",
        "from sklearn.compose import ColumnTransformer\n",
        "from sklearn.preprocessing import OneHotEncoder, MinMaxScaler,LabelEncoder,PowerTransformer"
      ],
      "metadata": {
        "id": "T6rRtJgxZGw_"
      },
      "execution_count": 470,
      "outputs": []
    },
    {
      "cell_type": "code",
      "source": [
        "X_train.select_dtypes(exclude='number').columns"
      ],
      "metadata": {
        "colab": {
          "base_uri": "https://localhost:8080/"
        },
        "id": "9UaP7BNMpHZt",
        "outputId": "8c98d576-8258-44a3-a74a-42c0e077d93f"
      },
      "execution_count": 471,
      "outputs": [
        {
          "output_type": "execute_result",
          "data": {
            "text/plain": [
              "Index(['Boat Type', 'Manufacturer', 'Type', 'Material', 'Location'], dtype='object')"
            ]
          },
          "metadata": {},
          "execution_count": 471
        }
      ]
    },
    {
      "cell_type": "code",
      "source": [
        "le = LabelEncoder()\n",
        "cat_cols = ['Boat Type', 'Manufacturer', 'Type', 'Material', 'Location']\n",
        "for col in cat_cols:\n",
        "  X_train[col] = le.fit_transform(X_train[col])\n",
        "  X_test[col] = le.transform(X_test[col])"
      ],
      "metadata": {
        "id": "i0U8rQPFuMhG"
      },
      "execution_count": 472,
      "outputs": []
    },
    {
      "cell_type": "code",
      "source": [
        "X_train.head()"
      ],
      "metadata": {
        "colab": {
          "base_uri": "https://localhost:8080/",
          "height": 206
        },
        "id": "QCob-XFdcs7w",
        "outputId": "ab87c2ba-0ab7-4558-c7df-8151b65ea302"
      },
      "execution_count": 473,
      "outputs": [
        {
          "output_type": "execute_result",
          "data": {
            "text/plain": [
              "      Boat Type  Manufacturer  Type  Year Built  Length  Width  Material  \\\n",
              "6762          6             6     3        1994   11.71   3.76        11   \n",
              "7621          0             2     7        2020    6.84   2.44        11   \n",
              "5148          6            23     3        2001   16.13   4.44         2   \n",
              "4694          6            27     3        2012   14.63   4.43        11   \n",
              "7351          8            26     3        1991   12.70   4.00         4   \n",
              "\n",
              "      Location  Number of views last 7 days  \n",
              "6762         4                          220  \n",
              "7621         3                           70  \n",
              "5148         3                          134  \n",
              "4694        10                          287  \n",
              "7351         2                           81  "
            ],
            "text/html": [
              "\n",
              "  <div id=\"df-3387056e-4dec-4aed-8138-4975d2f49455\">\n",
              "    <div class=\"colab-df-container\">\n",
              "      <div>\n",
              "<style scoped>\n",
              "    .dataframe tbody tr th:only-of-type {\n",
              "        vertical-align: middle;\n",
              "    }\n",
              "\n",
              "    .dataframe tbody tr th {\n",
              "        vertical-align: top;\n",
              "    }\n",
              "\n",
              "    .dataframe thead th {\n",
              "        text-align: right;\n",
              "    }\n",
              "</style>\n",
              "<table border=\"1\" class=\"dataframe\">\n",
              "  <thead>\n",
              "    <tr style=\"text-align: right;\">\n",
              "      <th></th>\n",
              "      <th>Boat Type</th>\n",
              "      <th>Manufacturer</th>\n",
              "      <th>Type</th>\n",
              "      <th>Year Built</th>\n",
              "      <th>Length</th>\n",
              "      <th>Width</th>\n",
              "      <th>Material</th>\n",
              "      <th>Location</th>\n",
              "      <th>Number of views last 7 days</th>\n",
              "    </tr>\n",
              "  </thead>\n",
              "  <tbody>\n",
              "    <tr>\n",
              "      <th>6762</th>\n",
              "      <td>6</td>\n",
              "      <td>6</td>\n",
              "      <td>3</td>\n",
              "      <td>1994</td>\n",
              "      <td>11.71</td>\n",
              "      <td>3.76</td>\n",
              "      <td>11</td>\n",
              "      <td>4</td>\n",
              "      <td>220</td>\n",
              "    </tr>\n",
              "    <tr>\n",
              "      <th>7621</th>\n",
              "      <td>0</td>\n",
              "      <td>2</td>\n",
              "      <td>7</td>\n",
              "      <td>2020</td>\n",
              "      <td>6.84</td>\n",
              "      <td>2.44</td>\n",
              "      <td>11</td>\n",
              "      <td>3</td>\n",
              "      <td>70</td>\n",
              "    </tr>\n",
              "    <tr>\n",
              "      <th>5148</th>\n",
              "      <td>6</td>\n",
              "      <td>23</td>\n",
              "      <td>3</td>\n",
              "      <td>2001</td>\n",
              "      <td>16.13</td>\n",
              "      <td>4.44</td>\n",
              "      <td>2</td>\n",
              "      <td>3</td>\n",
              "      <td>134</td>\n",
              "    </tr>\n",
              "    <tr>\n",
              "      <th>4694</th>\n",
              "      <td>6</td>\n",
              "      <td>27</td>\n",
              "      <td>3</td>\n",
              "      <td>2012</td>\n",
              "      <td>14.63</td>\n",
              "      <td>4.43</td>\n",
              "      <td>11</td>\n",
              "      <td>10</td>\n",
              "      <td>287</td>\n",
              "    </tr>\n",
              "    <tr>\n",
              "      <th>7351</th>\n",
              "      <td>8</td>\n",
              "      <td>26</td>\n",
              "      <td>3</td>\n",
              "      <td>1991</td>\n",
              "      <td>12.70</td>\n",
              "      <td>4.00</td>\n",
              "      <td>4</td>\n",
              "      <td>2</td>\n",
              "      <td>81</td>\n",
              "    </tr>\n",
              "  </tbody>\n",
              "</table>\n",
              "</div>\n",
              "      <button class=\"colab-df-convert\" onclick=\"convertToInteractive('df-3387056e-4dec-4aed-8138-4975d2f49455')\"\n",
              "              title=\"Convert this dataframe to an interactive table.\"\n",
              "              style=\"display:none;\">\n",
              "        \n",
              "  <svg xmlns=\"http://www.w3.org/2000/svg\" height=\"24px\"viewBox=\"0 0 24 24\"\n",
              "       width=\"24px\">\n",
              "    <path d=\"M0 0h24v24H0V0z\" fill=\"none\"/>\n",
              "    <path d=\"M18.56 5.44l.94 2.06.94-2.06 2.06-.94-2.06-.94-.94-2.06-.94 2.06-2.06.94zm-11 1L8.5 8.5l.94-2.06 2.06-.94-2.06-.94L8.5 2.5l-.94 2.06-2.06.94zm10 10l.94 2.06.94-2.06 2.06-.94-2.06-.94-.94-2.06-.94 2.06-2.06.94z\"/><path d=\"M17.41 7.96l-1.37-1.37c-.4-.4-.92-.59-1.43-.59-.52 0-1.04.2-1.43.59L10.3 9.45l-7.72 7.72c-.78.78-.78 2.05 0 2.83L4 21.41c.39.39.9.59 1.41.59.51 0 1.02-.2 1.41-.59l7.78-7.78 2.81-2.81c.8-.78.8-2.07 0-2.86zM5.41 20L4 18.59l7.72-7.72 1.47 1.35L5.41 20z\"/>\n",
              "  </svg>\n",
              "      </button>\n",
              "      \n",
              "  <style>\n",
              "    .colab-df-container {\n",
              "      display:flex;\n",
              "      flex-wrap:wrap;\n",
              "      gap: 12px;\n",
              "    }\n",
              "\n",
              "    .colab-df-convert {\n",
              "      background-color: #E8F0FE;\n",
              "      border: none;\n",
              "      border-radius: 50%;\n",
              "      cursor: pointer;\n",
              "      display: none;\n",
              "      fill: #1967D2;\n",
              "      height: 32px;\n",
              "      padding: 0 0 0 0;\n",
              "      width: 32px;\n",
              "    }\n",
              "\n",
              "    .colab-df-convert:hover {\n",
              "      background-color: #E2EBFA;\n",
              "      box-shadow: 0px 1px 2px rgba(60, 64, 67, 0.3), 0px 1px 3px 1px rgba(60, 64, 67, 0.15);\n",
              "      fill: #174EA6;\n",
              "    }\n",
              "\n",
              "    [theme=dark] .colab-df-convert {\n",
              "      background-color: #3B4455;\n",
              "      fill: #D2E3FC;\n",
              "    }\n",
              "\n",
              "    [theme=dark] .colab-df-convert:hover {\n",
              "      background-color: #434B5C;\n",
              "      box-shadow: 0px 1px 3px 1px rgba(0, 0, 0, 0.15);\n",
              "      filter: drop-shadow(0px 1px 2px rgba(0, 0, 0, 0.3));\n",
              "      fill: #FFFFFF;\n",
              "    }\n",
              "  </style>\n",
              "\n",
              "      <script>\n",
              "        const buttonEl =\n",
              "          document.querySelector('#df-3387056e-4dec-4aed-8138-4975d2f49455 button.colab-df-convert');\n",
              "        buttonEl.style.display =\n",
              "          google.colab.kernel.accessAllowed ? 'block' : 'none';\n",
              "\n",
              "        async function convertToInteractive(key) {\n",
              "          const element = document.querySelector('#df-3387056e-4dec-4aed-8138-4975d2f49455');\n",
              "          const dataTable =\n",
              "            await google.colab.kernel.invokeFunction('convertToInteractive',\n",
              "                                                     [key], {});\n",
              "          if (!dataTable) return;\n",
              "\n",
              "          const docLinkHtml = 'Like what you see? Visit the ' +\n",
              "            '<a target=\"_blank\" href=https://colab.research.google.com/notebooks/data_table.ipynb>data table notebook</a>'\n",
              "            + ' to learn more about interactive tables.';\n",
              "          element.innerHTML = '';\n",
              "          dataTable['output_type'] = 'display_data';\n",
              "          await google.colab.output.renderOutput(dataTable, element);\n",
              "          const docLink = document.createElement('div');\n",
              "          docLink.innerHTML = docLinkHtml;\n",
              "          element.appendChild(docLink);\n",
              "        }\n",
              "      </script>\n",
              "    </div>\n",
              "  </div>\n",
              "  "
            ]
          },
          "metadata": {},
          "execution_count": 473
        }
      ]
    },
    {
      "cell_type": "code",
      "source": [
        "X_test.head()"
      ],
      "metadata": {
        "colab": {
          "base_uri": "https://localhost:8080/",
          "height": 206
        },
        "id": "8aZQGjRDxf_e",
        "outputId": "34e13f7f-2826-4bf2-8960-061f767869f7"
      },
      "execution_count": 474,
      "outputs": [
        {
          "output_type": "execute_result",
          "data": {
            "text/plain": [
              "      Boat Type  Manufacturer  Type  Year Built  Length  Width  Material  \\\n",
              "2251          6            20     2        2006    14.5   4.26        11   \n",
              "4802         10            27     3        1910    13.3   3.12         8   \n",
              "1473          8            27     3        2008     9.4   3.35         2   \n",
              "940           6            26     4        2005     8.8   2.80         2   \n",
              "368           1            27     2        1992     8.8   2.98         2   \n",
              "\n",
              "      Location  Number of views last 7 days  \n",
              "2251         4                           69  \n",
              "4802         8                          245  \n",
              "1473         0                           36  \n",
              "940          7                          207  \n",
              "368          5                          146  "
            ],
            "text/html": [
              "\n",
              "  <div id=\"df-654e4bc6-da17-48de-b48f-7192304bf001\">\n",
              "    <div class=\"colab-df-container\">\n",
              "      <div>\n",
              "<style scoped>\n",
              "    .dataframe tbody tr th:only-of-type {\n",
              "        vertical-align: middle;\n",
              "    }\n",
              "\n",
              "    .dataframe tbody tr th {\n",
              "        vertical-align: top;\n",
              "    }\n",
              "\n",
              "    .dataframe thead th {\n",
              "        text-align: right;\n",
              "    }\n",
              "</style>\n",
              "<table border=\"1\" class=\"dataframe\">\n",
              "  <thead>\n",
              "    <tr style=\"text-align: right;\">\n",
              "      <th></th>\n",
              "      <th>Boat Type</th>\n",
              "      <th>Manufacturer</th>\n",
              "      <th>Type</th>\n",
              "      <th>Year Built</th>\n",
              "      <th>Length</th>\n",
              "      <th>Width</th>\n",
              "      <th>Material</th>\n",
              "      <th>Location</th>\n",
              "      <th>Number of views last 7 days</th>\n",
              "    </tr>\n",
              "  </thead>\n",
              "  <tbody>\n",
              "    <tr>\n",
              "      <th>2251</th>\n",
              "      <td>6</td>\n",
              "      <td>20</td>\n",
              "      <td>2</td>\n",
              "      <td>2006</td>\n",
              "      <td>14.5</td>\n",
              "      <td>4.26</td>\n",
              "      <td>11</td>\n",
              "      <td>4</td>\n",
              "      <td>69</td>\n",
              "    </tr>\n",
              "    <tr>\n",
              "      <th>4802</th>\n",
              "      <td>10</td>\n",
              "      <td>27</td>\n",
              "      <td>3</td>\n",
              "      <td>1910</td>\n",
              "      <td>13.3</td>\n",
              "      <td>3.12</td>\n",
              "      <td>8</td>\n",
              "      <td>8</td>\n",
              "      <td>245</td>\n",
              "    </tr>\n",
              "    <tr>\n",
              "      <th>1473</th>\n",
              "      <td>8</td>\n",
              "      <td>27</td>\n",
              "      <td>3</td>\n",
              "      <td>2008</td>\n",
              "      <td>9.4</td>\n",
              "      <td>3.35</td>\n",
              "      <td>2</td>\n",
              "      <td>0</td>\n",
              "      <td>36</td>\n",
              "    </tr>\n",
              "    <tr>\n",
              "      <th>940</th>\n",
              "      <td>6</td>\n",
              "      <td>26</td>\n",
              "      <td>4</td>\n",
              "      <td>2005</td>\n",
              "      <td>8.8</td>\n",
              "      <td>2.80</td>\n",
              "      <td>2</td>\n",
              "      <td>7</td>\n",
              "      <td>207</td>\n",
              "    </tr>\n",
              "    <tr>\n",
              "      <th>368</th>\n",
              "      <td>1</td>\n",
              "      <td>27</td>\n",
              "      <td>2</td>\n",
              "      <td>1992</td>\n",
              "      <td>8.8</td>\n",
              "      <td>2.98</td>\n",
              "      <td>2</td>\n",
              "      <td>5</td>\n",
              "      <td>146</td>\n",
              "    </tr>\n",
              "  </tbody>\n",
              "</table>\n",
              "</div>\n",
              "      <button class=\"colab-df-convert\" onclick=\"convertToInteractive('df-654e4bc6-da17-48de-b48f-7192304bf001')\"\n",
              "              title=\"Convert this dataframe to an interactive table.\"\n",
              "              style=\"display:none;\">\n",
              "        \n",
              "  <svg xmlns=\"http://www.w3.org/2000/svg\" height=\"24px\"viewBox=\"0 0 24 24\"\n",
              "       width=\"24px\">\n",
              "    <path d=\"M0 0h24v24H0V0z\" fill=\"none\"/>\n",
              "    <path d=\"M18.56 5.44l.94 2.06.94-2.06 2.06-.94-2.06-.94-.94-2.06-.94 2.06-2.06.94zm-11 1L8.5 8.5l.94-2.06 2.06-.94-2.06-.94L8.5 2.5l-.94 2.06-2.06.94zm10 10l.94 2.06.94-2.06 2.06-.94-2.06-.94-.94-2.06-.94 2.06-2.06.94z\"/><path d=\"M17.41 7.96l-1.37-1.37c-.4-.4-.92-.59-1.43-.59-.52 0-1.04.2-1.43.59L10.3 9.45l-7.72 7.72c-.78.78-.78 2.05 0 2.83L4 21.41c.39.39.9.59 1.41.59.51 0 1.02-.2 1.41-.59l7.78-7.78 2.81-2.81c.8-.78.8-2.07 0-2.86zM5.41 20L4 18.59l7.72-7.72 1.47 1.35L5.41 20z\"/>\n",
              "  </svg>\n",
              "      </button>\n",
              "      \n",
              "  <style>\n",
              "    .colab-df-container {\n",
              "      display:flex;\n",
              "      flex-wrap:wrap;\n",
              "      gap: 12px;\n",
              "    }\n",
              "\n",
              "    .colab-df-convert {\n",
              "      background-color: #E8F0FE;\n",
              "      border: none;\n",
              "      border-radius: 50%;\n",
              "      cursor: pointer;\n",
              "      display: none;\n",
              "      fill: #1967D2;\n",
              "      height: 32px;\n",
              "      padding: 0 0 0 0;\n",
              "      width: 32px;\n",
              "    }\n",
              "\n",
              "    .colab-df-convert:hover {\n",
              "      background-color: #E2EBFA;\n",
              "      box-shadow: 0px 1px 2px rgba(60, 64, 67, 0.3), 0px 1px 3px 1px rgba(60, 64, 67, 0.15);\n",
              "      fill: #174EA6;\n",
              "    }\n",
              "\n",
              "    [theme=dark] .colab-df-convert {\n",
              "      background-color: #3B4455;\n",
              "      fill: #D2E3FC;\n",
              "    }\n",
              "\n",
              "    [theme=dark] .colab-df-convert:hover {\n",
              "      background-color: #434B5C;\n",
              "      box-shadow: 0px 1px 3px 1px rgba(0, 0, 0, 0.15);\n",
              "      filter: drop-shadow(0px 1px 2px rgba(0, 0, 0, 0.3));\n",
              "      fill: #FFFFFF;\n",
              "    }\n",
              "  </style>\n",
              "\n",
              "      <script>\n",
              "        const buttonEl =\n",
              "          document.querySelector('#df-654e4bc6-da17-48de-b48f-7192304bf001 button.colab-df-convert');\n",
              "        buttonEl.style.display =\n",
              "          google.colab.kernel.accessAllowed ? 'block' : 'none';\n",
              "\n",
              "        async function convertToInteractive(key) {\n",
              "          const element = document.querySelector('#df-654e4bc6-da17-48de-b48f-7192304bf001');\n",
              "          const dataTable =\n",
              "            await google.colab.kernel.invokeFunction('convertToInteractive',\n",
              "                                                     [key], {});\n",
              "          if (!dataTable) return;\n",
              "\n",
              "          const docLinkHtml = 'Like what you see? Visit the ' +\n",
              "            '<a target=\"_blank\" href=https://colab.research.google.com/notebooks/data_table.ipynb>data table notebook</a>'\n",
              "            + ' to learn more about interactive tables.';\n",
              "          element.innerHTML = '';\n",
              "          dataTable['output_type'] = 'display_data';\n",
              "          await google.colab.output.renderOutput(dataTable, element);\n",
              "          const docLink = document.createElement('div');\n",
              "          docLink.innerHTML = docLinkHtml;\n",
              "          element.appendChild(docLink);\n",
              "        }\n",
              "      </script>\n",
              "    </div>\n",
              "  </div>\n",
              "  "
            ]
          },
          "metadata": {},
          "execution_count": 474
        }
      ]
    },
    {
      "cell_type": "code",
      "source": [
        "X_train_trf = X_train.copy()\n",
        "X_test_trf = X_test.copy()"
      ],
      "metadata": {
        "id": "CDX0jvl06lA3"
      },
      "execution_count": 475,
      "outputs": []
    },
    {
      "cell_type": "code",
      "source": [
        "ps = PowerTransformer()\n",
        "num_cols = ['Length','Width','Year Built','Number of views last 7 days']\n",
        "for col in num_cols:\n",
        "  X_train_trf[col] = ps.fit_transform(X_train_trf[col].values.reshape(-1,1))\n",
        "  X_test_trf[col] = ps.transform(X_test_trf[col].values.reshape(-1,1))"
      ],
      "metadata": {
        "id": "dGfP15p0xizr"
      },
      "execution_count": 476,
      "outputs": []
    },
    {
      "cell_type": "code",
      "source": [
        "X_train_trf.head()"
      ],
      "metadata": {
        "colab": {
          "base_uri": "https://localhost:8080/",
          "height": 206
        },
        "id": "TdisthstylKH",
        "outputId": "36cb19c5-d16b-4c4d-82d3-d565a51e8040"
      },
      "execution_count": 477,
      "outputs": [
        {
          "output_type": "execute_result",
          "data": {
            "text/plain": [
              "      Boat Type  Manufacturer  Type  Year Built    Length     Width  Material  \\\n",
              "6762          6             6     3   -0.600796  0.311181  0.387099        11   \n",
              "7621          0             2     7    1.138911 -0.950830 -0.975155        11   \n",
              "5148          6            23     3   -0.228651  0.992182  0.892225         2   \n",
              "4694          6            27     3    0.490596  0.790462  0.885468        11   \n",
              "7351          8            26     3   -0.742907  0.488968  0.576698         4   \n",
              "\n",
              "      Location  Number of views last 7 days  \n",
              "6762         4                     0.977008  \n",
              "7621         3                    -0.663496  \n",
              "5148         3                     0.316614  \n",
              "4694        10                     1.302364  \n",
              "7351         2                    -0.431172  "
            ],
            "text/html": [
              "\n",
              "  <div id=\"df-3474d65c-77f1-4a06-bf8c-dfb0f9666a87\">\n",
              "    <div class=\"colab-df-container\">\n",
              "      <div>\n",
              "<style scoped>\n",
              "    .dataframe tbody tr th:only-of-type {\n",
              "        vertical-align: middle;\n",
              "    }\n",
              "\n",
              "    .dataframe tbody tr th {\n",
              "        vertical-align: top;\n",
              "    }\n",
              "\n",
              "    .dataframe thead th {\n",
              "        text-align: right;\n",
              "    }\n",
              "</style>\n",
              "<table border=\"1\" class=\"dataframe\">\n",
              "  <thead>\n",
              "    <tr style=\"text-align: right;\">\n",
              "      <th></th>\n",
              "      <th>Boat Type</th>\n",
              "      <th>Manufacturer</th>\n",
              "      <th>Type</th>\n",
              "      <th>Year Built</th>\n",
              "      <th>Length</th>\n",
              "      <th>Width</th>\n",
              "      <th>Material</th>\n",
              "      <th>Location</th>\n",
              "      <th>Number of views last 7 days</th>\n",
              "    </tr>\n",
              "  </thead>\n",
              "  <tbody>\n",
              "    <tr>\n",
              "      <th>6762</th>\n",
              "      <td>6</td>\n",
              "      <td>6</td>\n",
              "      <td>3</td>\n",
              "      <td>-0.600796</td>\n",
              "      <td>0.311181</td>\n",
              "      <td>0.387099</td>\n",
              "      <td>11</td>\n",
              "      <td>4</td>\n",
              "      <td>0.977008</td>\n",
              "    </tr>\n",
              "    <tr>\n",
              "      <th>7621</th>\n",
              "      <td>0</td>\n",
              "      <td>2</td>\n",
              "      <td>7</td>\n",
              "      <td>1.138911</td>\n",
              "      <td>-0.950830</td>\n",
              "      <td>-0.975155</td>\n",
              "      <td>11</td>\n",
              "      <td>3</td>\n",
              "      <td>-0.663496</td>\n",
              "    </tr>\n",
              "    <tr>\n",
              "      <th>5148</th>\n",
              "      <td>6</td>\n",
              "      <td>23</td>\n",
              "      <td>3</td>\n",
              "      <td>-0.228651</td>\n",
              "      <td>0.992182</td>\n",
              "      <td>0.892225</td>\n",
              "      <td>2</td>\n",
              "      <td>3</td>\n",
              "      <td>0.316614</td>\n",
              "    </tr>\n",
              "    <tr>\n",
              "      <th>4694</th>\n",
              "      <td>6</td>\n",
              "      <td>27</td>\n",
              "      <td>3</td>\n",
              "      <td>0.490596</td>\n",
              "      <td>0.790462</td>\n",
              "      <td>0.885468</td>\n",
              "      <td>11</td>\n",
              "      <td>10</td>\n",
              "      <td>1.302364</td>\n",
              "    </tr>\n",
              "    <tr>\n",
              "      <th>7351</th>\n",
              "      <td>8</td>\n",
              "      <td>26</td>\n",
              "      <td>3</td>\n",
              "      <td>-0.742907</td>\n",
              "      <td>0.488968</td>\n",
              "      <td>0.576698</td>\n",
              "      <td>4</td>\n",
              "      <td>2</td>\n",
              "      <td>-0.431172</td>\n",
              "    </tr>\n",
              "  </tbody>\n",
              "</table>\n",
              "</div>\n",
              "      <button class=\"colab-df-convert\" onclick=\"convertToInteractive('df-3474d65c-77f1-4a06-bf8c-dfb0f9666a87')\"\n",
              "              title=\"Convert this dataframe to an interactive table.\"\n",
              "              style=\"display:none;\">\n",
              "        \n",
              "  <svg xmlns=\"http://www.w3.org/2000/svg\" height=\"24px\"viewBox=\"0 0 24 24\"\n",
              "       width=\"24px\">\n",
              "    <path d=\"M0 0h24v24H0V0z\" fill=\"none\"/>\n",
              "    <path d=\"M18.56 5.44l.94 2.06.94-2.06 2.06-.94-2.06-.94-.94-2.06-.94 2.06-2.06.94zm-11 1L8.5 8.5l.94-2.06 2.06-.94-2.06-.94L8.5 2.5l-.94 2.06-2.06.94zm10 10l.94 2.06.94-2.06 2.06-.94-2.06-.94-.94-2.06-.94 2.06-2.06.94z\"/><path d=\"M17.41 7.96l-1.37-1.37c-.4-.4-.92-.59-1.43-.59-.52 0-1.04.2-1.43.59L10.3 9.45l-7.72 7.72c-.78.78-.78 2.05 0 2.83L4 21.41c.39.39.9.59 1.41.59.51 0 1.02-.2 1.41-.59l7.78-7.78 2.81-2.81c.8-.78.8-2.07 0-2.86zM5.41 20L4 18.59l7.72-7.72 1.47 1.35L5.41 20z\"/>\n",
              "  </svg>\n",
              "      </button>\n",
              "      \n",
              "  <style>\n",
              "    .colab-df-container {\n",
              "      display:flex;\n",
              "      flex-wrap:wrap;\n",
              "      gap: 12px;\n",
              "    }\n",
              "\n",
              "    .colab-df-convert {\n",
              "      background-color: #E8F0FE;\n",
              "      border: none;\n",
              "      border-radius: 50%;\n",
              "      cursor: pointer;\n",
              "      display: none;\n",
              "      fill: #1967D2;\n",
              "      height: 32px;\n",
              "      padding: 0 0 0 0;\n",
              "      width: 32px;\n",
              "    }\n",
              "\n",
              "    .colab-df-convert:hover {\n",
              "      background-color: #E2EBFA;\n",
              "      box-shadow: 0px 1px 2px rgba(60, 64, 67, 0.3), 0px 1px 3px 1px rgba(60, 64, 67, 0.15);\n",
              "      fill: #174EA6;\n",
              "    }\n",
              "\n",
              "    [theme=dark] .colab-df-convert {\n",
              "      background-color: #3B4455;\n",
              "      fill: #D2E3FC;\n",
              "    }\n",
              "\n",
              "    [theme=dark] .colab-df-convert:hover {\n",
              "      background-color: #434B5C;\n",
              "      box-shadow: 0px 1px 3px 1px rgba(0, 0, 0, 0.15);\n",
              "      filter: drop-shadow(0px 1px 2px rgba(0, 0, 0, 0.3));\n",
              "      fill: #FFFFFF;\n",
              "    }\n",
              "  </style>\n",
              "\n",
              "      <script>\n",
              "        const buttonEl =\n",
              "          document.querySelector('#df-3474d65c-77f1-4a06-bf8c-dfb0f9666a87 button.colab-df-convert');\n",
              "        buttonEl.style.display =\n",
              "          google.colab.kernel.accessAllowed ? 'block' : 'none';\n",
              "\n",
              "        async function convertToInteractive(key) {\n",
              "          const element = document.querySelector('#df-3474d65c-77f1-4a06-bf8c-dfb0f9666a87');\n",
              "          const dataTable =\n",
              "            await google.colab.kernel.invokeFunction('convertToInteractive',\n",
              "                                                     [key], {});\n",
              "          if (!dataTable) return;\n",
              "\n",
              "          const docLinkHtml = 'Like what you see? Visit the ' +\n",
              "            '<a target=\"_blank\" href=https://colab.research.google.com/notebooks/data_table.ipynb>data table notebook</a>'\n",
              "            + ' to learn more about interactive tables.';\n",
              "          element.innerHTML = '';\n",
              "          dataTable['output_type'] = 'display_data';\n",
              "          await google.colab.output.renderOutput(dataTable, element);\n",
              "          const docLink = document.createElement('div');\n",
              "          docLink.innerHTML = docLinkHtml;\n",
              "          element.appendChild(docLink);\n",
              "        }\n",
              "      </script>\n",
              "    </div>\n",
              "  </div>\n",
              "  "
            ]
          },
          "metadata": {},
          "execution_count": 477
        }
      ]
    },
    {
      "cell_type": "code",
      "source": [
        "X_test_trf.head()"
      ],
      "metadata": {
        "colab": {
          "base_uri": "https://localhost:8080/",
          "height": 206
        },
        "id": "v-y9kiPdyntp",
        "outputId": "e0b6b96b-f30a-49db-890f-34b1b4ab835d"
      },
      "execution_count": 478,
      "outputs": [
        {
          "output_type": "execute_result",
          "data": {
            "text/plain": [
              "      Boat Type  Manufacturer  Type  Year Built    Length     Width  Material  \\\n",
              "2251          6            20     2    0.076055  0.771759  0.767771        11   \n",
              "4802         10            27     3   -2.413449  0.588526 -0.194184         8   \n",
              "1473          8            27     3    0.207998 -0.187421  0.028919         2   \n",
              "940           6            26     4    0.012303 -0.341862 -0.536453         2   \n",
              "368           1            27     2   -0.696619 -0.341862 -0.339020         2   \n",
              "\n",
              "      Location  Number of views last 7 days  \n",
              "2251         4                    -0.686789  \n",
              "4802         8                     1.111053  \n",
              "1473         0                    -1.815389  \n",
              "940          7                     0.899720  \n",
              "368          5                     0.436071  "
            ],
            "text/html": [
              "\n",
              "  <div id=\"df-9c649745-a222-43c5-aaa6-afe50371473d\">\n",
              "    <div class=\"colab-df-container\">\n",
              "      <div>\n",
              "<style scoped>\n",
              "    .dataframe tbody tr th:only-of-type {\n",
              "        vertical-align: middle;\n",
              "    }\n",
              "\n",
              "    .dataframe tbody tr th {\n",
              "        vertical-align: top;\n",
              "    }\n",
              "\n",
              "    .dataframe thead th {\n",
              "        text-align: right;\n",
              "    }\n",
              "</style>\n",
              "<table border=\"1\" class=\"dataframe\">\n",
              "  <thead>\n",
              "    <tr style=\"text-align: right;\">\n",
              "      <th></th>\n",
              "      <th>Boat Type</th>\n",
              "      <th>Manufacturer</th>\n",
              "      <th>Type</th>\n",
              "      <th>Year Built</th>\n",
              "      <th>Length</th>\n",
              "      <th>Width</th>\n",
              "      <th>Material</th>\n",
              "      <th>Location</th>\n",
              "      <th>Number of views last 7 days</th>\n",
              "    </tr>\n",
              "  </thead>\n",
              "  <tbody>\n",
              "    <tr>\n",
              "      <th>2251</th>\n",
              "      <td>6</td>\n",
              "      <td>20</td>\n",
              "      <td>2</td>\n",
              "      <td>0.076055</td>\n",
              "      <td>0.771759</td>\n",
              "      <td>0.767771</td>\n",
              "      <td>11</td>\n",
              "      <td>4</td>\n",
              "      <td>-0.686789</td>\n",
              "    </tr>\n",
              "    <tr>\n",
              "      <th>4802</th>\n",
              "      <td>10</td>\n",
              "      <td>27</td>\n",
              "      <td>3</td>\n",
              "      <td>-2.413449</td>\n",
              "      <td>0.588526</td>\n",
              "      <td>-0.194184</td>\n",
              "      <td>8</td>\n",
              "      <td>8</td>\n",
              "      <td>1.111053</td>\n",
              "    </tr>\n",
              "    <tr>\n",
              "      <th>1473</th>\n",
              "      <td>8</td>\n",
              "      <td>27</td>\n",
              "      <td>3</td>\n",
              "      <td>0.207998</td>\n",
              "      <td>-0.187421</td>\n",
              "      <td>0.028919</td>\n",
              "      <td>2</td>\n",
              "      <td>0</td>\n",
              "      <td>-1.815389</td>\n",
              "    </tr>\n",
              "    <tr>\n",
              "      <th>940</th>\n",
              "      <td>6</td>\n",
              "      <td>26</td>\n",
              "      <td>4</td>\n",
              "      <td>0.012303</td>\n",
              "      <td>-0.341862</td>\n",
              "      <td>-0.536453</td>\n",
              "      <td>2</td>\n",
              "      <td>7</td>\n",
              "      <td>0.899720</td>\n",
              "    </tr>\n",
              "    <tr>\n",
              "      <th>368</th>\n",
              "      <td>1</td>\n",
              "      <td>27</td>\n",
              "      <td>2</td>\n",
              "      <td>-0.696619</td>\n",
              "      <td>-0.341862</td>\n",
              "      <td>-0.339020</td>\n",
              "      <td>2</td>\n",
              "      <td>5</td>\n",
              "      <td>0.436071</td>\n",
              "    </tr>\n",
              "  </tbody>\n",
              "</table>\n",
              "</div>\n",
              "      <button class=\"colab-df-convert\" onclick=\"convertToInteractive('df-9c649745-a222-43c5-aaa6-afe50371473d')\"\n",
              "              title=\"Convert this dataframe to an interactive table.\"\n",
              "              style=\"display:none;\">\n",
              "        \n",
              "  <svg xmlns=\"http://www.w3.org/2000/svg\" height=\"24px\"viewBox=\"0 0 24 24\"\n",
              "       width=\"24px\">\n",
              "    <path d=\"M0 0h24v24H0V0z\" fill=\"none\"/>\n",
              "    <path d=\"M18.56 5.44l.94 2.06.94-2.06 2.06-.94-2.06-.94-.94-2.06-.94 2.06-2.06.94zm-11 1L8.5 8.5l.94-2.06 2.06-.94-2.06-.94L8.5 2.5l-.94 2.06-2.06.94zm10 10l.94 2.06.94-2.06 2.06-.94-2.06-.94-.94-2.06-.94 2.06-2.06.94z\"/><path d=\"M17.41 7.96l-1.37-1.37c-.4-.4-.92-.59-1.43-.59-.52 0-1.04.2-1.43.59L10.3 9.45l-7.72 7.72c-.78.78-.78 2.05 0 2.83L4 21.41c.39.39.9.59 1.41.59.51 0 1.02-.2 1.41-.59l7.78-7.78 2.81-2.81c.8-.78.8-2.07 0-2.86zM5.41 20L4 18.59l7.72-7.72 1.47 1.35L5.41 20z\"/>\n",
              "  </svg>\n",
              "      </button>\n",
              "      \n",
              "  <style>\n",
              "    .colab-df-container {\n",
              "      display:flex;\n",
              "      flex-wrap:wrap;\n",
              "      gap: 12px;\n",
              "    }\n",
              "\n",
              "    .colab-df-convert {\n",
              "      background-color: #E8F0FE;\n",
              "      border: none;\n",
              "      border-radius: 50%;\n",
              "      cursor: pointer;\n",
              "      display: none;\n",
              "      fill: #1967D2;\n",
              "      height: 32px;\n",
              "      padding: 0 0 0 0;\n",
              "      width: 32px;\n",
              "    }\n",
              "\n",
              "    .colab-df-convert:hover {\n",
              "      background-color: #E2EBFA;\n",
              "      box-shadow: 0px 1px 2px rgba(60, 64, 67, 0.3), 0px 1px 3px 1px rgba(60, 64, 67, 0.15);\n",
              "      fill: #174EA6;\n",
              "    }\n",
              "\n",
              "    [theme=dark] .colab-df-convert {\n",
              "      background-color: #3B4455;\n",
              "      fill: #D2E3FC;\n",
              "    }\n",
              "\n",
              "    [theme=dark] .colab-df-convert:hover {\n",
              "      background-color: #434B5C;\n",
              "      box-shadow: 0px 1px 3px 1px rgba(0, 0, 0, 0.15);\n",
              "      filter: drop-shadow(0px 1px 2px rgba(0, 0, 0, 0.3));\n",
              "      fill: #FFFFFF;\n",
              "    }\n",
              "  </style>\n",
              "\n",
              "      <script>\n",
              "        const buttonEl =\n",
              "          document.querySelector('#df-9c649745-a222-43c5-aaa6-afe50371473d button.colab-df-convert');\n",
              "        buttonEl.style.display =\n",
              "          google.colab.kernel.accessAllowed ? 'block' : 'none';\n",
              "\n",
              "        async function convertToInteractive(key) {\n",
              "          const element = document.querySelector('#df-9c649745-a222-43c5-aaa6-afe50371473d');\n",
              "          const dataTable =\n",
              "            await google.colab.kernel.invokeFunction('convertToInteractive',\n",
              "                                                     [key], {});\n",
              "          if (!dataTable) return;\n",
              "\n",
              "          const docLinkHtml = 'Like what you see? Visit the ' +\n",
              "            '<a target=\"_blank\" href=https://colab.research.google.com/notebooks/data_table.ipynb>data table notebook</a>'\n",
              "            + ' to learn more about interactive tables.';\n",
              "          element.innerHTML = '';\n",
              "          dataTable['output_type'] = 'display_data';\n",
              "          await google.colab.output.renderOutput(dataTable, element);\n",
              "          const docLink = document.createElement('div');\n",
              "          docLink.innerHTML = docLinkHtml;\n",
              "          element.appendChild(docLink);\n",
              "        }\n",
              "      </script>\n",
              "    </div>\n",
              "  </div>\n",
              "  "
            ]
          },
          "metadata": {},
          "execution_count": 478
        }
      ]
    },
    {
      "cell_type": "code",
      "source": [
        "y_train_trf = ps.fit_transform(y_train.values.reshape(-1,1))\n",
        "y_test_trf = ps.transform(y_test.values.reshape(-1,1))"
      ],
      "metadata": {
        "id": "70XgOZytyqAE"
      },
      "execution_count": 479,
      "outputs": []
    },
    {
      "cell_type": "markdown",
      "source": [
        "# Linear Regression"
      ],
      "metadata": {
        "id": "eQOSuCucHrI6"
      }
    },
    {
      "cell_type": "code",
      "source": [
        "#Applying Linear Regressor:\n",
        "from sklearn.linear_model import LinearRegression\n",
        "lr = LinearRegression()\n",
        "lr.fit(X_train_trf,y_train_trf)"
      ],
      "metadata": {
        "colab": {
          "base_uri": "https://localhost:8080/",
          "height": 75
        },
        "id": "fkX4EX7ka0zp",
        "outputId": "4162e615-a03f-40b6-dfbf-abf978bed141"
      },
      "execution_count": 480,
      "outputs": [
        {
          "output_type": "execute_result",
          "data": {
            "text/plain": [
              "LinearRegression()"
            ],
            "text/html": [
              "<style>#sk-container-id-5 {color: black;background-color: white;}#sk-container-id-5 pre{padding: 0;}#sk-container-id-5 div.sk-toggleable {background-color: white;}#sk-container-id-5 label.sk-toggleable__label {cursor: pointer;display: block;width: 100%;margin-bottom: 0;padding: 0.3em;box-sizing: border-box;text-align: center;}#sk-container-id-5 label.sk-toggleable__label-arrow:before {content: \"▸\";float: left;margin-right: 0.25em;color: #696969;}#sk-container-id-5 label.sk-toggleable__label-arrow:hover:before {color: black;}#sk-container-id-5 div.sk-estimator:hover label.sk-toggleable__label-arrow:before {color: black;}#sk-container-id-5 div.sk-toggleable__content {max-height: 0;max-width: 0;overflow: hidden;text-align: left;background-color: #f0f8ff;}#sk-container-id-5 div.sk-toggleable__content pre {margin: 0.2em;color: black;border-radius: 0.25em;background-color: #f0f8ff;}#sk-container-id-5 input.sk-toggleable__control:checked~div.sk-toggleable__content {max-height: 200px;max-width: 100%;overflow: auto;}#sk-container-id-5 input.sk-toggleable__control:checked~label.sk-toggleable__label-arrow:before {content: \"▾\";}#sk-container-id-5 div.sk-estimator input.sk-toggleable__control:checked~label.sk-toggleable__label {background-color: #d4ebff;}#sk-container-id-5 div.sk-label input.sk-toggleable__control:checked~label.sk-toggleable__label {background-color: #d4ebff;}#sk-container-id-5 input.sk-hidden--visually {border: 0;clip: rect(1px 1px 1px 1px);clip: rect(1px, 1px, 1px, 1px);height: 1px;margin: -1px;overflow: hidden;padding: 0;position: absolute;width: 1px;}#sk-container-id-5 div.sk-estimator {font-family: monospace;background-color: #f0f8ff;border: 1px dotted black;border-radius: 0.25em;box-sizing: border-box;margin-bottom: 0.5em;}#sk-container-id-5 div.sk-estimator:hover {background-color: #d4ebff;}#sk-container-id-5 div.sk-parallel-item::after {content: \"\";width: 100%;border-bottom: 1px solid gray;flex-grow: 1;}#sk-container-id-5 div.sk-label:hover label.sk-toggleable__label {background-color: #d4ebff;}#sk-container-id-5 div.sk-serial::before {content: \"\";position: absolute;border-left: 1px solid gray;box-sizing: border-box;top: 0;bottom: 0;left: 50%;z-index: 0;}#sk-container-id-5 div.sk-serial {display: flex;flex-direction: column;align-items: center;background-color: white;padding-right: 0.2em;padding-left: 0.2em;position: relative;}#sk-container-id-5 div.sk-item {position: relative;z-index: 1;}#sk-container-id-5 div.sk-parallel {display: flex;align-items: stretch;justify-content: center;background-color: white;position: relative;}#sk-container-id-5 div.sk-item::before, #sk-container-id-5 div.sk-parallel-item::before {content: \"\";position: absolute;border-left: 1px solid gray;box-sizing: border-box;top: 0;bottom: 0;left: 50%;z-index: -1;}#sk-container-id-5 div.sk-parallel-item {display: flex;flex-direction: column;z-index: 1;position: relative;background-color: white;}#sk-container-id-5 div.sk-parallel-item:first-child::after {align-self: flex-end;width: 50%;}#sk-container-id-5 div.sk-parallel-item:last-child::after {align-self: flex-start;width: 50%;}#sk-container-id-5 div.sk-parallel-item:only-child::after {width: 0;}#sk-container-id-5 div.sk-dashed-wrapped {border: 1px dashed gray;margin: 0 0.4em 0.5em 0.4em;box-sizing: border-box;padding-bottom: 0.4em;background-color: white;}#sk-container-id-5 div.sk-label label {font-family: monospace;font-weight: bold;display: inline-block;line-height: 1.2em;}#sk-container-id-5 div.sk-label-container {text-align: center;}#sk-container-id-5 div.sk-container {/* jupyter's `normalize.less` sets `[hidden] { display: none; }` but bootstrap.min.css set `[hidden] { display: none !important; }` so we also need the `!important` here to be able to override the default hidden behavior on the sphinx rendered scikit-learn.org. See: https://github.com/scikit-learn/scikit-learn/issues/21755 */display: inline-block !important;position: relative;}#sk-container-id-5 div.sk-text-repr-fallback {display: none;}</style><div id=\"sk-container-id-5\" class=\"sk-top-container\"><div class=\"sk-text-repr-fallback\"><pre>LinearRegression()</pre><b>In a Jupyter environment, please rerun this cell to show the HTML representation or trust the notebook. <br />On GitHub, the HTML representation is unable to render, please try loading this page with nbviewer.org.</b></div><div class=\"sk-container\" hidden><div class=\"sk-item\"><div class=\"sk-estimator sk-toggleable\"><input class=\"sk-toggleable__control sk-hidden--visually\" id=\"sk-estimator-id-5\" type=\"checkbox\" checked><label for=\"sk-estimator-id-5\" class=\"sk-toggleable__label sk-toggleable__label-arrow\">LinearRegression</label><div class=\"sk-toggleable__content\"><pre>LinearRegression()</pre></div></div></div></div></div>"
            ]
          },
          "metadata": {},
          "execution_count": 480
        }
      ]
    },
    {
      "cell_type": "code",
      "source": [
        "#predicting the outputs:\n",
        "y_pred = lr.predict(X_test_trf)"
      ],
      "metadata": {
        "id": "fhYiEwYbbIe5"
      },
      "execution_count": 481,
      "outputs": []
    },
    {
      "cell_type": "code",
      "source": [
        "#evaluating the model using the metrics:\n",
        "from sklearn.metrics import mean_absolute_error,mean_squared_error,r2_score"
      ],
      "metadata": {
        "id": "vzx9ZWj1bXFO"
      },
      "execution_count": 482,
      "outputs": []
    },
    {
      "cell_type": "code",
      "source": [
        "y_pred_trf = np.log(y_pred)"
      ],
      "metadata": {
        "id": "Cs5bvK7vzZLp"
      },
      "execution_count": 483,
      "outputs": []
    },
    {
      "cell_type": "code",
      "source": [
        "r2 = r2_score(y_test_trf,y_pred)\n",
        "mae = mean_absolute_error(y_test_trf,y_pred)\n",
        "mse = mean_squared_error(y_test_trf,y_pred)\n",
        "rmse = mean_squared_error(y_test_trf,y_pred,squared=False)\n",
        "\n",
        "print('R2Score:',r2)\n",
        "print('MAE:',mae)\n",
        "print('MSE:',mse)\n",
        "print('RMSE:',rmse)\n"
      ],
      "metadata": {
        "colab": {
          "base_uri": "https://localhost:8080/"
        },
        "id": "ohqcI-b-bX-7",
        "outputId": "751cf061-866f-4b14-cb34-a49f28add907"
      },
      "execution_count": 486,
      "outputs": [
        {
          "output_type": "stream",
          "name": "stdout",
          "text": [
            "R2Score: 0.7990558485316761\n",
            "MAE: 0.34062366646665004\n",
            "MSE: 0.20751233031350905\n",
            "RMSE: 0.455535213033536\n"
          ]
        }
      ]
    },
    {
      "cell_type": "code",
      "source": [
        "sns.regplot(x=y_pred,y=y_test_trf,ci=None,line_kws={'color':'red'})"
      ],
      "metadata": {
        "colab": {
          "base_uri": "https://localhost:8080/",
          "height": 447
        },
        "id": "8lM2YDjC73cg",
        "outputId": "35e9995f-8313-4e4e-dc0e-733823466690"
      },
      "execution_count": 487,
      "outputs": [
        {
          "output_type": "execute_result",
          "data": {
            "text/plain": [
              "<Axes: >"
            ]
          },
          "metadata": {},
          "execution_count": 487
        },
        {
          "output_type": "display_data",
          "data": {
            "text/plain": [
              "<Figure size 640x480 with 1 Axes>"
            ],
            "image/png": "[encoded data removed]"
          },
          "metadata": {}
        }
      ]
    },
    {
      "cell_type": "markdown",
      "source": [
        "# Decision tree"
      ],
      "metadata": {
        "id": "3r1OHFiOHELB"
      }
    },
    {
      "cell_type": "code",
      "source": [
        "from sklearn.tree import DecisionTreeRegressor"
      ],
      "metadata": {
        "id": "7NMgIabxHDWw"
      },
      "execution_count": 488,
      "outputs": []
    },
    {
      "cell_type": "code",
      "source": [
        "dt = DecisionTreeRegressor()\n",
        "dt.fit(X_train_trf,y_train_trf)\n",
        "dt_pred = dt.predict(X_test_trf)"
      ],
      "metadata": {
        "id": "oniWnh_aFSPp"
      },
      "execution_count": 489,
      "outputs": []
    },
    {
      "cell_type": "code",
      "source": [
        "#evaluation:\n",
        "r2 = r2_score(y_test_trf,dt_pred)\n",
        "mae = mean_absolute_error(y_test_trf,dt_pred)\n",
        "mse = mean_squared_error(y_test_trf,dt_pred)\n",
        "rmse = mean_squared_error(y_test_trf,dt_pred,squared=False)\n",
        "\n",
        "print('R2Score:',r2)\n",
        "print('MAE:',mae)\n",
        "print('MSE:',mse)\n",
        "print('RMSE:',rmse)"
      ],
      "metadata": {
        "colab": {
          "base_uri": "https://localhost:8080/"
        },
        "id": "rPqQsHtZHaRD",
        "outputId": "dbcb341e-7484-4f13-fcc3-82b22ff2d194"
      },
      "execution_count": 490,
      "outputs": [
        {
          "output_type": "stream",
          "name": "stdout",
          "text": [
            "R2Score: 0.8237312940966589\n",
            "MAE: 0.2932327951167696\n",
            "MSE: 0.1820303286065776\n",
            "RMSE: 0.42665012434848487\n"
          ]
        }
      ]
    },
    {
      "cell_type": "markdown",
      "source": [
        "# Random Forest"
      ],
      "metadata": {
        "id": "-fCrBPHAHucP"
      }
    },
    {
      "cell_type": "code",
      "source": [
        "from sklearn.ensemble import RandomForestRegressor"
      ],
      "metadata": {
        "id": "OgfC2zb0Hhbo"
      },
      "execution_count": 491,
      "outputs": []
    },
    {
      "cell_type": "code",
      "source": [
        "rf = RandomForestRegressor(n_estimators = 100)\n",
        "rf.fit(X_train_trf,y_train_trf)\n",
        "rf_pred = rf.predict(X_test_trf)"
      ],
      "metadata": {
        "id": "_gzHVFqTH2Ec"
      },
      "execution_count": 492,
      "outputs": []
    },
    {
      "cell_type": "code",
      "source": [
        "#evaluation:\n",
        "r2 = r2_score(y_test_trf,rf_pred)\n",
        "mae = mean_absolute_error(y_test_trf,rf_pred)\n",
        "mse = mean_squared_error(y_test_trf,rf_pred)\n",
        "rmse = mean_squared_error(y_test_trf,rf_pred,squared=False)\n",
        "\n",
        "print('R2Score:',r2)\n",
        "print('MAE:',mae)\n",
        "print('MSE:',mse)\n",
        "print('RMSE:',rmse)"
      ],
      "metadata": {
        "colab": {
          "base_uri": "https://localhost:8080/"
        },
        "id": "m1RtFOdMICk2",
        "outputId": "6d0f19ac-867f-4a88-9aa3-69534a80c709"
      },
      "execution_count": 493,
      "outputs": [
        {
          "output_type": "stream",
          "name": "stdout",
          "text": [
            "R2Score: 0.9114298699373997\n",
            "MAE: 0.20757573092964754\n",
            "MSE: 0.09146518548143968\n",
            "RMSE: 0.302432117146046\n"
          ]
        }
      ]
    },
    {
      "cell_type": "code",
      "source": [],
      "metadata": {
        "id": "N93wFfzAISz-"
      },
      "execution_count": 493,
      "outputs": []
    }
  ]
}